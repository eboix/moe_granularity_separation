{
 "cells": [
  {
   "cell_type": "code",
   "execution_count": 1,
   "metadata": {},
   "outputs": [
    {
     "name": "stdout",
     "output_type": "stream",
     "text": [
      "Using device: cpu\n"
     ]
    }
   ],
   "source": [
    "import torch\n",
    "import torch.nn as nn\n",
    "import torch.optim as optim\n",
    "from torch.utils.data import DataLoader, TensorDataset\n",
    "import os\n",
    "# os.chdir('/u/eboix/moe_experiment')\n",
    "os.chdir('/Users/eboix/Documents/local_work/moe_granularity_separation')\n",
    "\n",
    "# Check for GPU\n",
    "device = torch.device(\"cuda\" if torch.cuda.is_available() else \"cpu\")\n",
    "print(f\"Using device: {device}\")\n",
    "\n",
    "# Define MLP (used for both standalone model and MoE experts)\n",
    "class MLP(nn.Module):\n",
    "    def __init__(self, input_dim, output_dim, hidden_dim=32):\n",
    "        super().__init__()\n",
    "        self.fc = nn.Sequential(\n",
    "            nn.Linear(input_dim, hidden_dim),\n",
    "            nn.ReLU(),\n",
    "            nn.Linear(hidden_dim, output_dim)\n",
    "        )\n",
    "\n",
    "    def forward(self, x):\n",
    "        return self.fc(x)\n",
    "\n",
    "# Define MoE with Top-K (where each expert is an MLP)\n",
    "class MoE_TopK(nn.Module):\n",
    "    def __init__(self, input_dim, output_dim, num_experts, k, hidden_dim=32):\n",
    "        super().__init__()\n",
    "        self.num_experts = num_experts\n",
    "        self.k = k  # Number of selected experts\n",
    "\n",
    "        # Gating network\n",
    "        self.gate = nn.Linear(input_dim, num_experts,bias=False)\n",
    "\n",
    "        self.expert_tally = nn.Parameter(torch.zeros(self.num_experts))\n",
    "        self.expert_tally.requires_grad = False\n",
    "\n",
    "        # Expert networks (each expert is an MLP)\n",
    "        self.experts = nn.ModuleList([MLP(input_dim, output_dim, hidden_dim) for _ in range(num_experts)])\n",
    "\n",
    "    def forward(self, x):\n",
    "        gate_scores = self.gate(x)  # (batch_size, num_experts) \n",
    "        topk_vals, topk_idxs = torch.topk(gate_scores, self.k, dim=-1)  # Get top-k expert indices\n",
    "        # print(topk_idxs.shape)\n",
    "        # Count the number of occurrences of each index in topk_idxs\n",
    "        # unique_idxs, counts = torch.unique(topk_idxs, return_counts=True)\n",
    "        # print(unique_idxs)\n",
    "        # print(counts)\n",
    "        # print(self.expert_tally)\n",
    "        # self.expert_tally[unique_idxs] += counts\n",
    "        # print('before',self.expert_tally)\n",
    "        # print(topk_idxs.shape)\n",
    "        # for i in range(topk_idxs.shape[0]):\n",
    "        #     for j in range(topk_idxs.shape[1]):\n",
    "        #         print(i,j)\n",
    "        #         self.expert_tally[topk_idxs[j]] += 1\n",
    "        # print('after',self.expert_tally)\n",
    "        topk_weights = torch.softmax(topk_vals, dim=-1)  # Normalize weights over top-k\n",
    "\n",
    "        batch_size, _ = x.shape\n",
    "        expert_outputs = torch.stack([self.experts[i](x) for i in range(self.num_experts)], dim=1)  # (batch_size, num_experts, output_dim)\n",
    "        selected_expert_outputs = torch.gather(expert_outputs, 1, topk_idxs.unsqueeze(-1).expand(-1, -1, expert_outputs.shape[-1]))\n",
    "\n",
    "        output = torch.sum(selected_expert_outputs * topk_weights.unsqueeze(-1), dim=1)\n",
    "        return output\n",
    "\n",
    "# Generate data from a teacher model\n",
    "def generate_teacher_data(teacher_model, n_samples=1000, input_dim=10):\n",
    "    X = torch.randn(n_samples, input_dim).to(device)\n",
    "    Y = teacher_model(X).detach()\n",
    "    return X, Y\n",
    "\n",
    "# Training function\n",
    "def train(model, train_loader, criterion, optimizer, num_epochs=20):\n",
    "    model.to(device)\n",
    "    for epoch in range(num_epochs):\n",
    "        for x_batch, y_batch in train_loader:\n",
    "            x_batch, y_batch = x_batch.to(device), y_batch.to(device)  # Move data to GPU\n",
    "            \n",
    "            optimizer.zero_grad()\n",
    "            output = model(x_batch)\n",
    "            loss = criterion(output, y_batch) * output.shape[1]\n",
    "            loss.backward()\n",
    "            optimizer.step()\n",
    "\n",
    "        # if epoch % 1 == 0:\n",
    "        #     print(f\"Epoch [{epoch+1}/{num_epochs}], Loss: {loss.item():.4f}\")\n",
    "    return loss.item()\n",
    "\n",
    "# Evaluation function\n",
    "def evaluate(model, test_loader):\n",
    "    model.to(device)\n",
    "    model.eval()\n",
    "    total_loss = 0\n",
    "    criterion = nn.MSELoss()\n",
    "    \n",
    "    with torch.no_grad():\n",
    "        for x_batch, y_batch in test_loader:\n",
    "            x_batch, y_batch = x_batch.to(device), y_batch.to(device)  # Move data to GPU\n",
    "            output = model(x_batch)\n",
    "            total_loss += criterion(output, y_batch).item() * output.shape[1]\n",
    "\n",
    "    # print(f\"Test Loss: {total_loss / len(test_loader):.4f}\")\n",
    "    model.train()\n",
    "    return total_loss / len(test_loader)\n",
    "\n",
    "def evaluate_zero(test_loader):\n",
    "    total_loss = 0\n",
    "    criterion = nn.MSELoss()\n",
    "    \n",
    "    with torch.no_grad():\n",
    "        for x_batch, y_batch in test_loader:\n",
    "            x_batch, y_batch = x_batch.to(device), y_batch.to(device)  # Move data to GPU\n",
    "            output = torch.zeros_like(y_batch)\n",
    "            total_loss += criterion(output, y_batch).item() * output.shape[1]\n",
    "\n",
    "    # print(f\"Test Loss: {total_loss / len(test_loader):.4f}\")\n",
    "    return total_loss / len(test_loader)\n",
    "    evaluate_zero(test_loader)\n",
    "\n"
   ]
  },
  {
   "cell_type": "code",
   "execution_count": 2,
   "metadata": {},
   "outputs": [],
   "source": [
    "import pickle\n",
    "from tqdm import tqdm\n",
    "import math\n",
    "def generate_datapoint(d,\n",
    "                       k1,num_experts1,active_neurons1,\n",
    "                       k2,num_experts2,active_neurons2,\n",
    "                       num_epochs,lr,batch_size,\n",
    "                       trial):\n",
    "    input_dim = d\n",
    "    output_dim = d\n",
    "    hidden_dim1 = active_neurons1 // k1\n",
    "    hidden_dim2 = active_neurons2 // k2\n",
    "    active_neurons1 = hidden_dim1 * k1\n",
    "    active_neurons2 = hidden_dim2 * k2\n",
    "    assert(hidden_dim1 * k1 == active_neurons1)\n",
    "    assert(hidden_dim2 * k2 == active_neurons2)\n",
    "    filename = f'd{d}_{num_experts1}e{k1}a{active_neurons1}s_{num_experts2}e{k2}a{active_neurons2}s_lr{lr}_b{batch_size}_e{num_epochs}_trial{trial}.pkl'\n",
    "    experiment_filename = 'experiment_data/' + filename\n",
    "    if not os.path.exists('experiment_data'):\n",
    "        os.makedirs('experiment_data')\n",
    "    if os.path.exists(experiment_filename):\n",
    "        print(f'Experiment file {experiment_filename} already exists. Loading data.')\n",
    "        data = pickle.load(open(experiment_filename, 'rb'))\n",
    "        return data\n",
    "    else:\n",
    "        # return {'train_losses': [-1], 'test_losses': [math.inf], 'base_losses': [1]}\n",
    "        print(f'Generating teacher model with {k1} / {num_experts1} experts and {active_neurons1} active neurons')\n",
    "        # Generate dataset using the teacher model\n",
    "        teacher_model = MoE_TopK(input_dim, output_dim, num_experts1, k1, hidden_dim1).to(device)\n",
    "\n",
    "\n",
    "        # Train MoE_TopK with cosine decay learning rate\n",
    "        print(f'Training student model with {k2} / {num_experts2} experts and {active_neurons2} active neurons')\n",
    "        student_model = MoE_TopK(input_dim, output_dim, num_experts2, k2, hidden_dim2).to(device)\n",
    "        base_optimizer = optim.AdamW([\n",
    "            {'params': student_model.gate.parameters(), 'lr' : lr},  # Gate parameters\n",
    "            {'params': student_model.experts.parameters(), 'lr' : lr}  # Expert parameters\n",
    "        ])\n",
    "\n",
    "        # Define a cosine annealing scheduler\n",
    "        scheduler = optim.lr_scheduler.CosineAnnealingLR(base_optimizer, T_max=num_epochs)\n",
    "\n",
    "        train_losses = []\n",
    "        test_losses = []\n",
    "        base_losses = []\n",
    "\n",
    "        for epoch in tqdm(range(num_epochs)):\n",
    "            print(f'Generating train and test for epoch {epoch}')\n",
    "            X_train, Y_train = generate_teacher_data(teacher_model, n_samples=2**18, input_dim=input_dim)\n",
    "            X_test, Y_test = generate_teacher_data(teacher_model, n_samples=2**12, input_dim=input_dim)\n",
    "            train_dataset = TensorDataset(X_train, Y_train)\n",
    "            test_dataset = TensorDataset(X_test, Y_test)\n",
    "            train_loader = DataLoader(train_dataset, batch_size=batch_size, shuffle=True)\n",
    "            test_loader = DataLoader(test_dataset, batch_size=batch_size, shuffle=False)\n",
    "            train_loss = train(student_model, train_loader, nn.MSELoss(), base_optimizer, 1)\n",
    "            test_loss = evaluate(student_model, test_loader)\n",
    "            base_loss = evaluate_zero(test_loader)\n",
    "            train_losses.append(train_loss)\n",
    "            test_losses.append(test_loss)\n",
    "            base_losses.append(base_loss)\n",
    "            print(f\"Epoch [{epoch+1}/{num_epochs}], Train Loss: {train_loss:.4f}, Test Loss: {test_loss:.4f}, Base Loss: {base_loss:.4f}\")\n",
    "            scheduler.step()  # Update learning rate\n",
    "        data = {\n",
    "            'train_losses': train_losses,\n",
    "            'test_losses': test_losses,\n",
    "            'base_losses': base_losses,\n",
    "        }\n",
    "        pickle.dump(data, open(experiment_filename, 'wb'))\n",
    "        return data\n"
   ]
  },
  {
   "cell_type": "markdown",
   "metadata": {},
   "source": [
    "# Sparsity 0.5, d = active neurons. 25% overparametrized student"
   ]
  },
  {
   "cell_type": "code",
   "execution_count": 3,
   "metadata": {},
   "outputs": [
    {
     "name": "stdout",
     "output_type": "stream",
     "text": [
      "Experiment file experiment_data/d256_4e2a256s_4e2a320s_lr0.001_b2048_e100_trial0.pkl already exists. Loading data.\n",
      "Experiment file experiment_data/d256_4e2a256s_4e2a320s_lr0.01_b2048_e100_trial0.pkl already exists. Loading data.\n",
      "Experiment file experiment_data/d256_8e4a256s_4e2a320s_lr0.001_b2048_e100_trial0.pkl already exists. Loading data.\n",
      "Experiment file experiment_data/d256_8e4a256s_4e2a320s_lr0.01_b2048_e100_trial0.pkl already exists. Loading data.\n",
      "Experiment file experiment_data/d256_12e6a252s_4e2a320s_lr0.001_b2048_e100_trial0.pkl already exists. Loading data.\n",
      "Experiment file experiment_data/d256_12e6a252s_4e2a320s_lr0.01_b2048_e100_trial0.pkl already exists. Loading data.\n",
      "Experiment file experiment_data/d256_16e8a256s_4e2a320s_lr0.001_b2048_e100_trial0.pkl already exists. Loading data.\n",
      "Experiment file experiment_data/d256_16e8a256s_4e2a320s_lr0.01_b2048_e100_trial0.pkl already exists. Loading data.\n",
      "Experiment file experiment_data/d256_20e10a250s_4e2a320s_lr0.001_b2048_e100_trial0.pkl already exists. Loading data.\n",
      "Experiment file experiment_data/d256_20e10a250s_4e2a320s_lr0.01_b2048_e100_trial0.pkl already exists. Loading data.\n",
      "Experiment file experiment_data/d256_24e12a252s_4e2a320s_lr0.001_b2048_e100_trial0.pkl already exists. Loading data.\n",
      "Experiment file experiment_data/d256_24e12a252s_4e2a320s_lr0.01_b2048_e100_trial0.pkl already exists. Loading data.\n",
      "Experiment file experiment_data/d256_28e14a252s_4e2a320s_lr0.001_b2048_e100_trial0.pkl already exists. Loading data.\n",
      "Experiment file experiment_data/d256_28e14a252s_4e2a320s_lr0.01_b2048_e100_trial0.pkl already exists. Loading data.\n",
      "Experiment file experiment_data/d256_32e16a256s_4e2a320s_lr0.001_b2048_e100_trial0.pkl already exists. Loading data.\n",
      "Experiment file experiment_data/d256_32e16a256s_4e2a320s_lr0.01_b2048_e100_trial0.pkl already exists. Loading data.\n",
      "Experiment file experiment_data/d256_4e2a256s_8e4a320s_lr0.001_b2048_e100_trial0.pkl already exists. Loading data.\n",
      "Experiment file experiment_data/d256_4e2a256s_8e4a320s_lr0.01_b2048_e100_trial0.pkl already exists. Loading data.\n",
      "Experiment file experiment_data/d256_8e4a256s_8e4a320s_lr0.001_b2048_e100_trial0.pkl already exists. Loading data.\n",
      "Experiment file experiment_data/d256_8e4a256s_8e4a320s_lr0.01_b2048_e100_trial0.pkl already exists. Loading data.\n",
      "Experiment file experiment_data/d256_12e6a252s_8e4a320s_lr0.001_b2048_e100_trial0.pkl already exists. Loading data.\n",
      "Experiment file experiment_data/d256_12e6a252s_8e4a320s_lr0.01_b2048_e100_trial0.pkl already exists. Loading data.\n",
      "Experiment file experiment_data/d256_16e8a256s_8e4a320s_lr0.001_b2048_e100_trial0.pkl already exists. Loading data.\n",
      "Experiment file experiment_data/d256_16e8a256s_8e4a320s_lr0.01_b2048_e100_trial0.pkl already exists. Loading data.\n",
      "Experiment file experiment_data/d256_20e10a250s_8e4a320s_lr0.001_b2048_e100_trial0.pkl already exists. Loading data.\n",
      "Experiment file experiment_data/d256_20e10a250s_8e4a320s_lr0.01_b2048_e100_trial0.pkl already exists. Loading data.\n",
      "Experiment file experiment_data/d256_24e12a252s_8e4a320s_lr0.001_b2048_e100_trial0.pkl already exists. Loading data.\n",
      "Experiment file experiment_data/d256_24e12a252s_8e4a320s_lr0.01_b2048_e100_trial0.pkl already exists. Loading data.\n",
      "Experiment file experiment_data/d256_28e14a252s_8e4a320s_lr0.001_b2048_e100_trial0.pkl already exists. Loading data.\n",
      "Experiment file experiment_data/d256_28e14a252s_8e4a320s_lr0.01_b2048_e100_trial0.pkl already exists. Loading data.\n",
      "Experiment file experiment_data/d256_32e16a256s_8e4a320s_lr0.001_b2048_e100_trial0.pkl already exists. Loading data.\n",
      "Experiment file experiment_data/d256_32e16a256s_8e4a320s_lr0.01_b2048_e100_trial0.pkl already exists. Loading data.\n",
      "Experiment file experiment_data/d256_4e2a256s_12e6a318s_lr0.001_b2048_e100_trial0.pkl already exists. Loading data.\n",
      "Experiment file experiment_data/d256_4e2a256s_12e6a318s_lr0.01_b2048_e100_trial0.pkl already exists. Loading data.\n",
      "Experiment file experiment_data/d256_8e4a256s_12e6a318s_lr0.001_b2048_e100_trial0.pkl already exists. Loading data.\n",
      "Experiment file experiment_data/d256_8e4a256s_12e6a318s_lr0.01_b2048_e100_trial0.pkl already exists. Loading data.\n",
      "Experiment file experiment_data/d256_12e6a252s_12e6a318s_lr0.001_b2048_e100_trial0.pkl already exists. Loading data.\n",
      "Experiment file experiment_data/d256_12e6a252s_12e6a318s_lr0.01_b2048_e100_trial0.pkl already exists. Loading data.\n",
      "Experiment file experiment_data/d256_16e8a256s_12e6a318s_lr0.001_b2048_e100_trial0.pkl already exists. Loading data.\n",
      "Experiment file experiment_data/d256_16e8a256s_12e6a318s_lr0.01_b2048_e100_trial0.pkl already exists. Loading data.\n",
      "Experiment file experiment_data/d256_20e10a250s_12e6a318s_lr0.001_b2048_e100_trial0.pkl already exists. Loading data.\n",
      "Experiment file experiment_data/d256_20e10a250s_12e6a318s_lr0.01_b2048_e100_trial0.pkl already exists. Loading data.\n",
      "Experiment file experiment_data/d256_24e12a252s_12e6a318s_lr0.001_b2048_e100_trial0.pkl already exists. Loading data.\n",
      "Experiment file experiment_data/d256_24e12a252s_12e6a318s_lr0.01_b2048_e100_trial0.pkl already exists. Loading data.\n",
      "Experiment file experiment_data/d256_28e14a252s_12e6a318s_lr0.001_b2048_e100_trial0.pkl already exists. Loading data.\n",
      "Experiment file experiment_data/d256_28e14a252s_12e6a318s_lr0.01_b2048_e100_trial0.pkl already exists. Loading data.\n",
      "Experiment file experiment_data/d256_32e16a256s_12e6a318s_lr0.001_b2048_e100_trial0.pkl already exists. Loading data.\n",
      "Experiment file experiment_data/d256_32e16a256s_12e6a318s_lr0.01_b2048_e100_trial0.pkl already exists. Loading data.\n",
      "Experiment file experiment_data/d256_4e2a256s_16e8a320s_lr0.001_b2048_e100_trial0.pkl already exists. Loading data.\n",
      "Experiment file experiment_data/d256_4e2a256s_16e8a320s_lr0.01_b2048_e100_trial0.pkl already exists. Loading data.\n",
      "Experiment file experiment_data/d256_8e4a256s_16e8a320s_lr0.001_b2048_e100_trial0.pkl already exists. Loading data.\n",
      "Experiment file experiment_data/d256_8e4a256s_16e8a320s_lr0.01_b2048_e100_trial0.pkl already exists. Loading data.\n",
      "Experiment file experiment_data/d256_12e6a252s_16e8a320s_lr0.001_b2048_e100_trial0.pkl already exists. Loading data.\n",
      "Experiment file experiment_data/d256_12e6a252s_16e8a320s_lr0.01_b2048_e100_trial0.pkl already exists. Loading data.\n",
      "Experiment file experiment_data/d256_16e8a256s_16e8a320s_lr0.001_b2048_e100_trial0.pkl already exists. Loading data.\n",
      "Experiment file experiment_data/d256_16e8a256s_16e8a320s_lr0.01_b2048_e100_trial0.pkl already exists. Loading data.\n",
      "Experiment file experiment_data/d256_20e10a250s_16e8a320s_lr0.001_b2048_e100_trial0.pkl already exists. Loading data.\n",
      "Experiment file experiment_data/d256_20e10a250s_16e8a320s_lr0.01_b2048_e100_trial0.pkl already exists. Loading data.\n",
      "Experiment file experiment_data/d256_24e12a252s_16e8a320s_lr0.001_b2048_e100_trial0.pkl already exists. Loading data.\n",
      "Experiment file experiment_data/d256_24e12a252s_16e8a320s_lr0.01_b2048_e100_trial0.pkl already exists. Loading data.\n",
      "Experiment file experiment_data/d256_28e14a252s_16e8a320s_lr0.001_b2048_e100_trial0.pkl already exists. Loading data.\n",
      "Experiment file experiment_data/d256_28e14a252s_16e8a320s_lr0.01_b2048_e100_trial0.pkl already exists. Loading data.\n",
      "Experiment file experiment_data/d256_32e16a256s_16e8a320s_lr0.001_b2048_e100_trial0.pkl already exists. Loading data.\n",
      "Experiment file experiment_data/d256_32e16a256s_16e8a320s_lr0.01_b2048_e100_trial0.pkl already exists. Loading data.\n",
      "Experiment file experiment_data/d256_4e2a256s_20e10a320s_lr0.001_b2048_e100_trial0.pkl already exists. Loading data.\n",
      "Experiment file experiment_data/d256_4e2a256s_20e10a320s_lr0.01_b2048_e100_trial0.pkl already exists. Loading data.\n",
      "Experiment file experiment_data/d256_8e4a256s_20e10a320s_lr0.001_b2048_e100_trial0.pkl already exists. Loading data.\n",
      "Experiment file experiment_data/d256_8e4a256s_20e10a320s_lr0.01_b2048_e100_trial0.pkl already exists. Loading data.\n",
      "Experiment file experiment_data/d256_12e6a252s_20e10a320s_lr0.001_b2048_e100_trial0.pkl already exists. Loading data.\n",
      "Experiment file experiment_data/d256_12e6a252s_20e10a320s_lr0.01_b2048_e100_trial0.pkl already exists. Loading data.\n",
      "Experiment file experiment_data/d256_16e8a256s_20e10a320s_lr0.001_b2048_e100_trial0.pkl already exists. Loading data.\n",
      "Experiment file experiment_data/d256_16e8a256s_20e10a320s_lr0.01_b2048_e100_trial0.pkl already exists. Loading data.\n",
      "Experiment file experiment_data/d256_20e10a250s_20e10a320s_lr0.001_b2048_e100_trial0.pkl already exists. Loading data.\n",
      "Experiment file experiment_data/d256_20e10a250s_20e10a320s_lr0.01_b2048_e100_trial0.pkl already exists. Loading data.\n",
      "Experiment file experiment_data/d256_24e12a252s_20e10a320s_lr0.001_b2048_e100_trial0.pkl already exists. Loading data.\n",
      "Experiment file experiment_data/d256_24e12a252s_20e10a320s_lr0.01_b2048_e100_trial0.pkl already exists. Loading data.\n",
      "Experiment file experiment_data/d256_28e14a252s_20e10a320s_lr0.001_b2048_e100_trial0.pkl already exists. Loading data.\n",
      "Experiment file experiment_data/d256_28e14a252s_20e10a320s_lr0.01_b2048_e100_trial0.pkl already exists. Loading data.\n",
      "Experiment file experiment_data/d256_32e16a256s_20e10a320s_lr0.001_b2048_e100_trial0.pkl already exists. Loading data.\n",
      "Experiment file experiment_data/d256_32e16a256s_20e10a320s_lr0.01_b2048_e100_trial0.pkl already exists. Loading data.\n",
      "Experiment file experiment_data/d256_4e2a256s_24e12a312s_lr0.001_b2048_e100_trial0.pkl already exists. Loading data.\n",
      "Experiment file experiment_data/d256_4e2a256s_24e12a312s_lr0.01_b2048_e100_trial0.pkl already exists. Loading data.\n",
      "Experiment file experiment_data/d256_8e4a256s_24e12a312s_lr0.001_b2048_e100_trial0.pkl already exists. Loading data.\n",
      "Experiment file experiment_data/d256_8e4a256s_24e12a312s_lr0.01_b2048_e100_trial0.pkl already exists. Loading data.\n",
      "Experiment file experiment_data/d256_12e6a252s_24e12a312s_lr0.001_b2048_e100_trial0.pkl already exists. Loading data.\n",
      "Experiment file experiment_data/d256_12e6a252s_24e12a312s_lr0.01_b2048_e100_trial0.pkl already exists. Loading data.\n",
      "Experiment file experiment_data/d256_16e8a256s_24e12a312s_lr0.001_b2048_e100_trial0.pkl already exists. Loading data.\n",
      "Experiment file experiment_data/d256_16e8a256s_24e12a312s_lr0.01_b2048_e100_trial0.pkl already exists. Loading data.\n",
      "Experiment file experiment_data/d256_20e10a250s_24e12a312s_lr0.001_b2048_e100_trial0.pkl already exists. Loading data.\n",
      "Experiment file experiment_data/d256_20e10a250s_24e12a312s_lr0.01_b2048_e100_trial0.pkl already exists. Loading data.\n",
      "Experiment file experiment_data/d256_24e12a252s_24e12a312s_lr0.001_b2048_e100_trial0.pkl already exists. Loading data.\n",
      "Experiment file experiment_data/d256_24e12a252s_24e12a312s_lr0.01_b2048_e100_trial0.pkl already exists. Loading data.\n",
      "Experiment file experiment_data/d256_28e14a252s_24e12a312s_lr0.001_b2048_e100_trial0.pkl already exists. Loading data.\n",
      "Experiment file experiment_data/d256_28e14a252s_24e12a312s_lr0.01_b2048_e100_trial0.pkl already exists. Loading data.\n",
      "Experiment file experiment_data/d256_32e16a256s_24e12a312s_lr0.001_b2048_e100_trial0.pkl already exists. Loading data.\n",
      "Experiment file experiment_data/d256_32e16a256s_24e12a312s_lr0.01_b2048_e100_trial0.pkl already exists. Loading data.\n",
      "Experiment file experiment_data/d256_4e2a256s_28e14a308s_lr0.001_b2048_e100_trial0.pkl already exists. Loading data.\n",
      "Experiment file experiment_data/d256_4e2a256s_28e14a308s_lr0.01_b2048_e100_trial0.pkl already exists. Loading data.\n",
      "Experiment file experiment_data/d256_8e4a256s_28e14a308s_lr0.001_b2048_e100_trial0.pkl already exists. Loading data.\n",
      "Experiment file experiment_data/d256_8e4a256s_28e14a308s_lr0.01_b2048_e100_trial0.pkl already exists. Loading data.\n",
      "Experiment file experiment_data/d256_12e6a252s_28e14a308s_lr0.001_b2048_e100_trial0.pkl already exists. Loading data.\n",
      "Experiment file experiment_data/d256_12e6a252s_28e14a308s_lr0.01_b2048_e100_trial0.pkl already exists. Loading data.\n",
      "Experiment file experiment_data/d256_16e8a256s_28e14a308s_lr0.001_b2048_e100_trial0.pkl already exists. Loading data.\n",
      "Experiment file experiment_data/d256_16e8a256s_28e14a308s_lr0.01_b2048_e100_trial0.pkl already exists. Loading data.\n",
      "Experiment file experiment_data/d256_20e10a250s_28e14a308s_lr0.001_b2048_e100_trial0.pkl already exists. Loading data.\n",
      "Experiment file experiment_data/d256_20e10a250s_28e14a308s_lr0.01_b2048_e100_trial0.pkl already exists. Loading data.\n",
      "Experiment file experiment_data/d256_24e12a252s_28e14a308s_lr0.001_b2048_e100_trial0.pkl already exists. Loading data.\n",
      "Experiment file experiment_data/d256_24e12a252s_28e14a308s_lr0.01_b2048_e100_trial0.pkl already exists. Loading data.\n",
      "Experiment file experiment_data/d256_28e14a252s_28e14a308s_lr0.001_b2048_e100_trial0.pkl already exists. Loading data.\n",
      "Experiment file experiment_data/d256_28e14a252s_28e14a308s_lr0.01_b2048_e100_trial0.pkl already exists. Loading data.\n",
      "Experiment file experiment_data/d256_32e16a256s_28e14a308s_lr0.001_b2048_e100_trial0.pkl already exists. Loading data.\n",
      "Experiment file experiment_data/d256_32e16a256s_28e14a308s_lr0.01_b2048_e100_trial0.pkl already exists. Loading data.\n",
      "Experiment file experiment_data/d256_4e2a256s_32e16a320s_lr0.001_b2048_e100_trial0.pkl already exists. Loading data.\n",
      "Experiment file experiment_data/d256_4e2a256s_32e16a320s_lr0.01_b2048_e100_trial0.pkl already exists. Loading data.\n",
      "Experiment file experiment_data/d256_8e4a256s_32e16a320s_lr0.001_b2048_e100_trial0.pkl already exists. Loading data.\n",
      "Experiment file experiment_data/d256_8e4a256s_32e16a320s_lr0.01_b2048_e100_trial0.pkl already exists. Loading data.\n",
      "Experiment file experiment_data/d256_12e6a252s_32e16a320s_lr0.001_b2048_e100_trial0.pkl already exists. Loading data.\n",
      "Experiment file experiment_data/d256_12e6a252s_32e16a320s_lr0.01_b2048_e100_trial0.pkl already exists. Loading data.\n",
      "Experiment file experiment_data/d256_16e8a256s_32e16a320s_lr0.001_b2048_e100_trial0.pkl already exists. Loading data.\n",
      "Experiment file experiment_data/d256_16e8a256s_32e16a320s_lr0.01_b2048_e100_trial0.pkl already exists. Loading data.\n",
      "Experiment file experiment_data/d256_20e10a250s_32e16a320s_lr0.001_b2048_e100_trial0.pkl already exists. Loading data.\n",
      "Experiment file experiment_data/d256_20e10a250s_32e16a320s_lr0.01_b2048_e100_trial0.pkl already exists. Loading data.\n",
      "Experiment file experiment_data/d256_24e12a252s_32e16a320s_lr0.001_b2048_e100_trial0.pkl already exists. Loading data.\n",
      "Experiment file experiment_data/d256_24e12a252s_32e16a320s_lr0.01_b2048_e100_trial0.pkl already exists. Loading data.\n",
      "Experiment file experiment_data/d256_28e14a252s_32e16a320s_lr0.001_b2048_e100_trial0.pkl already exists. Loading data.\n",
      "Experiment file experiment_data/d256_28e14a252s_32e16a320s_lr0.01_b2048_e100_trial0.pkl already exists. Loading data.\n",
      "Experiment file experiment_data/d256_32e16a256s_32e16a320s_lr0.001_b2048_e100_trial0.pkl already exists. Loading data.\n",
      "Experiment file experiment_data/d256_32e16a256s_32e16a320s_lr0.01_b2048_e100_trial0.pkl already exists. Loading data.\n",
      "{((4, 2), (4, 2)): {0.001: [0.0068647627020957894], 0.01: [0.000279629510980927]}, ((8, 4), (4, 2)): {0.001: [0.18947615513593924], 0.01: [0.19387604371721454]}, ((12, 6), (4, 2)): {0.001: [0.20598803477555747], 0.01: [0.22398094973477162]}, ((16, 8), (4, 2)): {0.001: [0.22070194952976338], 0.01: [0.23221189795130448]}, ((20, 10), (4, 2)): {0.001: [0.2186958342080512], 0.01: [0.23148627203384486]}, ((24, 12), (4, 2)): {0.001: [0.2253584775958387], 0.01: [0.24210864680463923]}, ((28, 14), (4, 2)): {0.001: [0.2295572919718921], 0.01: [0.23371234839018012]}, ((32, 16), (4, 2)): {0.001: [0.2267126297712244], 0.01: [0.23577026434975878]}, ((4, 2), (8, 4)): {0.001: [0.00023935218423913322], 0.01: [0.00017103338830048496]}, ((8, 4), (8, 4)): {0.001: [3.679088822679663e-07], 0.01: [0.08950808205783552]}, ((12, 6), (8, 4)): {0.001: [0.1247309282687894], 0.01: [0.12734300687144867]}, ((16, 8), (8, 4)): {0.001: [0.17475775963346277], 0.01: [0.17624480998725459]}, ((20, 10), (8, 4)): {0.001: [0.18757863517396903], 0.01: [0.1965604843139295]}, ((24, 12), (8, 4)): {0.001: [0.19881144452706642], 0.01: [0.20867761558028788]}, ((28, 14), (8, 4)): {0.001: [0.20589858370865388], 0.01: [0.21826133587705193]}, ((32, 16), (8, 4)): {0.001: [0.22382385612907216], 0.01: [0.23707330402431095]}, ((4, 2), (12, 6)): {0.001: [0.0006248388258353752], 0.01: [0.00046737503786783844]}, ((8, 4), (12, 6)): {0.001: [0.06163637388728796], 0.01: [0.041094560575203117]}, ((12, 6), (12, 6)): {0.001: [8.69512999159865e-05], 0.01: [6.412623497147998e-05]}, ((16, 8), (12, 6)): {0.001: [0.09171907706682073], 0.01: [0.10295161158160832]}, ((20, 10), (12, 6)): {0.001: [0.13455993318443984], 0.01: [0.15176460638130634]}, ((24, 12), (12, 6)): {0.001: [0.16715547432529146], 0.01: [0.17868009216373448]}, ((28, 14), (12, 6)): {0.001: [0.17498001582908979], 0.01: [0.19593409265456752]}, ((32, 16), (12, 6)): {0.001: [0.19654215542691156], 0.01: [0.21326573152909156]}, ((4, 2), (16, 8)): {0.001: [0.0004898002487742377], 0.01: [0.0001586252932237745]}, ((8, 4), (16, 8)): {0.001: [0.0002973335640481403], 0.01: [0.0001824320122647123]}, ((12, 6), (16, 8)): {0.001: [0.021183968704063992], 0.01: [0.039637847309002536]}, ((16, 8), (16, 8)): {0.001: [6.749320322797968e-05], 0.01: [0.00016404385481325726]}, ((20, 10), (16, 8)): {0.001: [0.07058262058014353], 0.01: [0.07219038876758645]}, ((24, 12), (16, 8)): {0.001: [0.11947128974412792], 0.01: [0.12364763853370282]}, ((28, 14), (16, 8)): {0.001: [0.1414822650768303], 0.01: [0.16066089636306896]}, ((32, 16), (16, 8)): {0.001: [0.15591516138619765], 0.01: [0.17730591161568998]}, ((4, 2), (20, 10)): {0.001: [0.016515718294757255], 0.01: [0.00027155257707427426]}, ((8, 4), (20, 10)): {0.001: [0.01838359307517311], 0.01: [0.010652620591044902]}, ((12, 6), (20, 10)): {0.001: [0.03175304081827329], 0.01: [0.03295969348223034]}, ((16, 8), (20, 10)): {0.001: [0.018053823939329378], 0.01: [0.03509043935366254]}, ((20, 10), (20, 10)): {0.001: [0.029056973666740416], 0.01: [9.444883705135767e-05]}, ((24, 12), (20, 10)): {0.001: [0.057620323816419634], 0.01: [0.05970252994032829]}, ((28, 14), (20, 10)): {0.001: [0.09464076712754539], 0.01: [0.10520647992810102]}, ((32, 16), (20, 10)): {0.001: [0.12889934894077118], 0.01: [0.1418062127577184]}, ((4, 2), (24, 12)): {0.001: [0.0002786115338722702], 0.01: [0.00015358135851633792]}, ((8, 4), (24, 12)): {0.001: [0.010229997232165298], 0.01: [4.658790288430398e-05]}, ((12, 6), (24, 12)): {0.001: [0.00012329517914956895], 0.01: [0.00018818817341441834]}, ((16, 8), (24, 12)): {0.001: [0.04221521056120846], 0.01: [0.038075181533939094]}, ((20, 10), (24, 12)): {0.001: [0.01395141354714207], 0.01: [0.02356600920377824]}, ((24, 12), (24, 12)): {0.001: [0.0022149390465096056], 0.01: [0.00025171208093408893]}, ((28, 14), (24, 12)): {0.001: [0.052888847768193435], 0.01: [0.05260274985596865]}, ((32, 16), (24, 12)): {0.001: [0.08811740072645709], 0.01: [0.1251789335560062]}, ((4, 2), (28, 14)): {0.001: [0.04823192560854053], 0.01: [0.0004307799135329435]}, ((8, 4), (28, 14)): {0.001: [0.02222423739627859], 0.01: [0.006944935675510447]}, ((12, 6), (28, 14)): {0.001: [0.012291254225158487], 0.01: [0.007809708067639595]}, ((16, 8), (28, 14)): {0.001: [0.03651363692542479], 0.01: [0.02911183210039651]}, ((20, 10), (28, 14)): {0.001: [0.032346351651499745], 0.01: [0.046124541239900854]}, ((24, 12), (28, 14)): {0.001: [0.016988498544233285], 0.01: [0.038809502013513505]}, ((28, 14), (28, 14)): {0.001: [0.0032539378641185486], 0.01: [0.017746670144984197]}, ((32, 16), (28, 14)): {0.001: [0.046509404357767625], 0.01: [0.09032450197777132]}, ((4, 2), (32, 16)): {0.001: [0.06321129333822775], 0.01: [0.0016885780052981057]}, ((8, 4), (32, 16)): {0.001: [0.0187751412773456], 0.01: [0.00011651341382231147]}, ((12, 6), (32, 16)): {0.001: [0.015231746929724682], 0.01: [0.010415011637733831]}, ((16, 8), (32, 16)): {0.001: [0.0019863986840401313], 0.01: [0.00017152648613343792]}, ((20, 10), (32, 16)): {0.001: [0.03450535868642424], 0.01: [0.03246825745366945]}, ((24, 12), (32, 16)): {0.001: [0.0285795935853617], 0.01: [0.03953769103480243]}, ((28, 14), (32, 16)): {0.001: [0.016714810913690852], 0.01: [0.009438263811390136]}, ((32, 16), (32, 16)): {0.001: [0.0036739420980359257], 0.01: [0.02538214472692257]}}\n"
     ]
    },
    {
     "data": {
      "image/png": "[encoded data removed]",
      "text/plain": [
       "<Figure size 1200x600 with 2 Axes>"
      ]
     },
     "metadata": {},
     "output_type": "display_data"
    },
    {
     "name": "stdout",
     "output_type": "stream",
     "text": [
      "0.0012710432317314863\n",
      "0.0007774244922749316\n",
      "0.0021244319903083566\n",
      "0.0007210240601080659\n",
      "0.0012343298957921557\n",
      "0.0006980970841651724\n",
      "0.001958090516058834\n",
      "0.0076753545695368445\n",
      "0.8612552506179056\n",
      "1.6723131012180287e-06\n",
      "0.18679345716001416\n",
      "0.000829236419385056\n",
      "0.04842100268656774\n",
      "0.00021176319492865447\n",
      "0.031567889434138394\n",
      "0.0005296064264650521\n",
      "0.9363092489798066\n",
      "0.5669587648581337\n",
      "0.0002914828862339999\n",
      "0.09629076683665451\n",
      "0.14433200371942406\n",
      "0.0005604326324980406\n",
      "0.03549867303472543\n",
      "0.04734096198969923\n",
      "1.0031906796807426\n",
      "0.7943534528793762\n",
      "0.41690489575827605\n",
      "0.0003067872873999076\n",
      "0.08206283608786082\n",
      "0.17306900697245042\n",
      "0.13232650954725686\n",
      "0.0007796658460610815\n",
      "0.99407197367296\n",
      "0.8526301598816773\n",
      "0.6116360599292721\n",
      "0.320830093546107\n",
      "0.00042931289568798943\n",
      "0.06341551612337305\n",
      "0.14702887114318067\n",
      "0.14758298842577022\n",
      "1.0243567163447214\n",
      "0.9036883842139383\n",
      "0.7597976105695067\n",
      "0.5430513170187633\n",
      "0.26191056280190744\n",
      "0.001144145822427677\n",
      "0.07722044792833312\n",
      "0.12990724356982591\n",
      "1.043442236235873\n",
      "0.935902653221154\n",
      "0.7953637083140445\n",
      "0.6431012048946831\n",
      "0.4301853051252063\n",
      "0.23910340843622113\n",
      "0.014790626655084311\n",
      "0.042901199142682436\n",
      "1.0305119535055653\n",
      "1.0173811642230552\n",
      "0.8933734337586889\n",
      "0.7087052790281712\n",
      "0.5859061315489599\n",
      "0.40053363966571404\n",
      "0.2114063834443983\n",
      "0.01669973680925421\n"
     ]
    },
    {
     "name": "stderr",
     "output_type": "stream",
     "text": [
      "/var/folders/00/81y_tlw56kj6cypgg2rbk1980000gn/T/ipykernel_9487/1732597821.py:108: MatplotlibDeprecationWarning: The get_cmap function was deprecated in Matplotlib 3.7 and will be removed in 3.11. Use ``matplotlib.colormaps[name]`` or ``matplotlib.colormaps.get_cmap()`` or ``pyplot.get_cmap()`` instead.\n",
      "  cmap = get_cmap(\"viridis\")\n"
     ]
    },
    {
     "data": {
      "image/png": "[encoded data removed]",
      "text/plain": [
       "<Figure size 600x600 with 1 Axes>"
      ]
     },
     "metadata": {},
     "output_type": "display_data"
    }
   ],
   "source": [
    "# Factor of 1.25 overparametrization in student model\n",
    "d = 256\n",
    "active_neurons1 = 256\n",
    "active_neurons2 = 320\n",
    "\n",
    "batch_size = 2048\n",
    "lr = 1e-3\n",
    "# lr = 3e-4\n",
    "# lr = 3e-3\n",
    "lr = 1e-2\n",
    "num_epochs = 100\n",
    "trial = 0\n",
    "generate_srun = False\n",
    "data_dict = {}\n",
    "for num_experts2, k2 in [(4,2),(8,4),(12,6),(16,8),(20,10),(24,12),(28,14),(32,16)]:\n",
    "    for num_experts1, k1 in [(4,2),(8,4),(12,6),(16,8),(20,10),(24,12),(28,14),(32,16)]:\n",
    "        vals_lr = {}\n",
    "        for lr in [1e-3, 1e-2]:\n",
    "            vals_lr[lr] = []\n",
    "            for trial in range(1):\n",
    "                if generate_srun:\n",
    "                    print(f'srun python moe_student_teacher.py --d {d} \\\n",
    "                        --k1 {k1} --num_experts1 {num_experts1} --active_neurons1 {active_neurons1} \\\n",
    "                        --k2 {k2} --num_experts2 {num_experts2} --active_neurons2 {active_neurons2} \\\n",
    "                        --num_epochs {num_epochs} \\\n",
    "                        --lr {lr} \\\n",
    "                        --batch_size {batch_size} \\\n",
    "                        --trial {trial}')\n",
    "                else:\n",
    "                    datum = generate_datapoint(d,\n",
    "                                    k1,num_experts1,active_neurons1,\n",
    "                                    k2,num_experts2,active_neurons2,\n",
    "                                    num_epochs,lr,batch_size,\n",
    "                                    trial=0)\n",
    "                    val = datum['test_losses'][-1] / datum['base_losses'][-1]\n",
    "                    vals_lr[lr].append(val)\n",
    "        data_dict[((num_experts1,k1),(num_experts2,k2))] = vals_lr\n",
    "            \n",
    "import seaborn as sns\n",
    "import pandas as pd\n",
    "import numpy as np\n",
    "\n",
    "print(data_dict)\n",
    "processed_data_dict = {}\n",
    "for k in data_dict.keys():\n",
    "    bestmean = float('inf')\n",
    "    for lr in data_dict[k].keys():\n",
    "        if sum(data_dict[k][lr]) / len(data_dict[k][lr]) < bestmean:\n",
    "            bestmean = sum(data_dict[k][lr]) / len(data_dict[k][lr])\n",
    "    processed_data_dict[k] = bestmean\n",
    "\n",
    "\n",
    "student_labels = [(4,2),(8,4),(12,6),(16,8),(20,10),(24,12),(28,14),(32,16)]\n",
    "teacher_labels = [(4,2),(8,4),(12,6),(16,8),(20,10),(24,12),(28,14),(32,16)]\n",
    "raw_data = np.zeros((len(student_labels), len(teacher_labels)))\n",
    "for i, student in enumerate(student_labels):\n",
    "    for j, teacher in enumerate(teacher_labels):\n",
    "        if (teacher, student) in processed_data_dict.keys():\n",
    "            raw_data[i,j] = processed_data_dict[(teacher, student)]\n",
    "        else:\n",
    "            raw_data[i,j] = float('inf')\n",
    "\n",
    "# print(raw_data)\n",
    "\n",
    "\n",
    "import matplotlib.pyplot as plt\n",
    "\n",
    "# Convert raw_data into a DataFrame for heatmap plotting\n",
    "heatmap_df = pd.DataFrame(raw_data, index=[f'{label[0]}e{label[1]}a' for label in student_labels], columns=[f'{label[0]}e{label[1]}a' for label in teacher_labels])\n",
    "\n",
    "# print(heatmap_df)\n",
    "\n",
    "# Plot the heatmap\n",
    "plt.figure(figsize=(10, 8))\n",
    "sns.heatmap(heatmap_df.T, annot=True, fmt=\".2f\", cmap=\"viridis\") # , cbar_kws={'label': 'Test error'}\n",
    "plt.title(\"Test error in fitting teacher model by student model with 25% more active parameters\")\n",
    "plt.xlabel(\"Student Architecture\")\n",
    "plt.ylabel(\"Teacher Architecture\")\n",
    "plt.gcf().set_size_inches(12, 6)\n",
    "plt.show()\n",
    "\n",
    "\n",
    "\n",
    "import matplotlib.pyplot as plt\n",
    "import matplotlib.patches as patches\n",
    "import numpy as np\n",
    "from matplotlib.colors import Normalize\n",
    "from matplotlib.cm import get_cmap\n",
    "\n",
    "# Data from the image (test errors)\n",
    "# data = np.array([\n",
    "#     [0.00, 0.00, 0.00, 0.00],\n",
    "#     [0.19, 0.00, 0.00, 0.00],\n",
    "#     [0.22, 0.17, 0.00, 0.00],\n",
    "#     [0.23, 0.22, 0.16, 0.00],   \n",
    "# ])\n",
    "\n",
    "data = raw_data\n",
    "data = np.array(data).T\n",
    "\n",
    "rows, cols = data.shape\n",
    "labels_x = [f'{label[0]}e{label[1]}a' for label in student_labels]\n",
    "labels_y = [f'{label[0]}e{label[1]}a' for label in teacher_labels]\n",
    "labels_y = labels_y[::-1]  # Reverse the y-axis labels\n",
    "\n",
    "fig, ax = plt.subplots(figsize=(6, 6))\n",
    "norm = Normalize(vmin=0, vmax=0.22)\n",
    "cmap = get_cmap(\"viridis\")\n",
    "\n",
    "# Plot grid of circles\n",
    "for i in range(rows):\n",
    "    for j in range(cols):\n",
    "        val = data[i, j]\n",
    "        color = cmap(norm(val))\n",
    "        print(norm(val))\n",
    "        text_color = 'black' if norm(val) > 0.2 else 'white'\n",
    "        circle = patches.Circle((j, rows - i - 1), 0.4, color=color)\n",
    "        ax.add_patch(circle)\n",
    "        ax.text(j, rows - i - 1, f\"{val:.2f}\", ha='center', va='center', color=text_color, fontsize=10)\n",
    "\n",
    "# Set axes\n",
    "ax.set_xlim(-0.5, cols - 0.5)\n",
    "ax.set_ylim(-0.5, rows - 0.5)\n",
    "ax.set_xticks(range(cols))\n",
    "ax.set_yticks(range(rows))\n",
    "ax.set_xticklabels(labels_x)\n",
    "ax.set_yticklabels(labels_y)\n",
    "ax.set_xlabel(\"Student Architecture\")\n",
    "ax.set_ylabel(\"Teacher Architecture\")\n",
    "ax.set_title(\"Effect of granularity at constant sparsity and size\")\n",
    "ax.set_aspect('equal')\n",
    "ax.invert_yaxis()\n",
    "\n",
    "plt.tight_layout()\n",
    "plt.show()\n",
    "\n"
   ]
  },
  {
   "cell_type": "code",
   "execution_count": 5,
   "metadata": {},
   "outputs": [
    {
     "name": "stdout",
     "output_type": "stream",
     "text": [
      "Experiment file experiment_data/d256_16e8a256s_4e2a320s_lr0.001_b2048_e100_trial0.pkl already exists. Loading data.\n",
      "Experiment file experiment_data/d256_16e8a256s_4e2a320s_lr0.01_b2048_e100_trial0.pkl already exists. Loading data.\n",
      "Experiment file experiment_data/d256_16e8a256s_8e2a320s_lr0.001_b2048_e100_trial0.pkl already exists. Loading data.\n",
      "Experiment file experiment_data/d256_16e8a256s_8e2a320s_lr0.01_b2048_e100_trial0.pkl already exists. Loading data.\n",
      "Experiment file experiment_data/d256_16e8a256s_16e2a320s_lr0.001_b2048_e100_trial0.pkl already exists. Loading data.\n",
      "Experiment file experiment_data/d256_16e8a256s_16e2a320s_lr0.01_b2048_e100_trial0.pkl already exists. Loading data.\n",
      "Experiment file experiment_data/d256_16e8a256s_32e2a320s_lr0.001_b2048_e100_trial0.pkl already exists. Loading data.\n",
      "Experiment file experiment_data/d256_16e8a256s_32e2a320s_lr0.01_b2048_e100_trial0.pkl already exists. Loading data.\n",
      "Experiment file experiment_data/d256_16e8a256s_64e2a320s_lr0.001_b2048_e100_trial0.pkl already exists. Loading data.\n",
      "Experiment file experiment_data/d256_16e8a256s_64e2a320s_lr0.01_b2048_e100_trial0.pkl already exists. Loading data.\n",
      "Experiment file experiment_data/d256_16e8a256s_8e4a320s_lr0.001_b2048_e100_trial0.pkl already exists. Loading data.\n",
      "Experiment file experiment_data/d256_16e8a256s_8e4a320s_lr0.01_b2048_e100_trial0.pkl already exists. Loading data.\n",
      "Experiment file experiment_data/d256_16e8a256s_16e4a320s_lr0.001_b2048_e100_trial0.pkl already exists. Loading data.\n",
      "Experiment file experiment_data/d256_16e8a256s_16e4a320s_lr0.01_b2048_e100_trial0.pkl already exists. Loading data.\n",
      "Experiment file experiment_data/d256_16e8a256s_32e4a320s_lr0.001_b2048_e100_trial0.pkl already exists. Loading data.\n",
      "Experiment file experiment_data/d256_16e8a256s_32e4a320s_lr0.01_b2048_e100_trial0.pkl already exists. Loading data.\n",
      "Experiment file experiment_data/d256_16e8a256s_64e4a320s_lr0.001_b2048_e100_trial0.pkl already exists. Loading data.\n",
      "Experiment file experiment_data/d256_16e8a256s_64e4a320s_lr0.01_b2048_e100_trial0.pkl already exists. Loading data.\n",
      "Generating teacher model with 8 / 16 experts and 256 active neurons\n",
      "Training student model with 4 / 128 experts and 320 active neurons\n"
     ]
    },
    {
     "name": "stderr",
     "output_type": "stream",
     "text": [
      "  0%|          | 0/100 [00:00<?, ?it/s]"
     ]
    },
    {
     "name": "stdout",
     "output_type": "stream",
     "text": [
      "Generating train and test for epoch 0\n"
     ]
    },
    {
     "name": "stderr",
     "output_type": "stream",
     "text": [
      "  1%|          | 1/100 [01:03<1:45:26, 63.91s/it]"
     ]
    },
    {
     "name": "stdout",
     "output_type": "stream",
     "text": [
      "Epoch [1/100], Train Loss: 1.8017, Test Loss: 1.7895, Base Loss: 2.4604\n",
      "Generating train and test for epoch 1\n"
     ]
    },
    {
     "name": "stderr",
     "output_type": "stream",
     "text": [
      "  1%|          | 1/100 [01:26<2:22:08, 86.14s/it]\n"
     ]
    },
    {
     "ename": "KeyboardInterrupt",
     "evalue": "",
     "output_type": "error",
     "traceback": [
      "\u001b[0;31m---------------------------------------------------------------------------\u001b[0m",
      "\u001b[0;31mKeyboardInterrupt\u001b[0m                         Traceback (most recent call last)",
      "Cell \u001b[0;32mIn[5], line 33\u001b[0m\n\u001b[1;32m     25\u001b[0m     \u001b[38;5;28mprint\u001b[39m(\u001b[38;5;124mf\u001b[39m\u001b[38;5;124m'\u001b[39m\u001b[38;5;124msrun python moe_student_teacher.py --d \u001b[39m\u001b[38;5;132;01m{\u001b[39;00md\u001b[38;5;132;01m}\u001b[39;00m\u001b[38;5;124m \u001b[39m\u001b[38;5;130;01m\\\u001b[39;00m\n\u001b[1;32m     26\u001b[0m \u001b[38;5;124m        --k1 \u001b[39m\u001b[38;5;132;01m{\u001b[39;00mk1\u001b[38;5;132;01m}\u001b[39;00m\u001b[38;5;124m --num_experts1 \u001b[39m\u001b[38;5;132;01m{\u001b[39;00mnum_experts1\u001b[38;5;132;01m}\u001b[39;00m\u001b[38;5;124m --active_neurons1 \u001b[39m\u001b[38;5;132;01m{\u001b[39;00mactive_neurons1\u001b[38;5;132;01m}\u001b[39;00m\u001b[38;5;124m \u001b[39m\u001b[38;5;130;01m\\\u001b[39;00m\n\u001b[1;32m     27\u001b[0m \u001b[38;5;124m        --k2 \u001b[39m\u001b[38;5;132;01m{\u001b[39;00mk2\u001b[38;5;132;01m}\u001b[39;00m\u001b[38;5;124m --num_experts2 \u001b[39m\u001b[38;5;132;01m{\u001b[39;00mnum_experts2\u001b[38;5;132;01m}\u001b[39;00m\u001b[38;5;124m --active_neurons2 \u001b[39m\u001b[38;5;132;01m{\u001b[39;00mactive_neurons2\u001b[38;5;132;01m}\u001b[39;00m\u001b[38;5;124m \u001b[39m\u001b[38;5;130;01m\\\u001b[39;00m\n\u001b[0;32m   (...)\u001b[0m\n\u001b[1;32m     30\u001b[0m \u001b[38;5;124m        --batch_size \u001b[39m\u001b[38;5;132;01m{\u001b[39;00mbatch_size\u001b[38;5;132;01m}\u001b[39;00m\u001b[38;5;124m \u001b[39m\u001b[38;5;130;01m\\\u001b[39;00m\n\u001b[1;32m     31\u001b[0m \u001b[38;5;124m        --trial \u001b[39m\u001b[38;5;132;01m{\u001b[39;00mtrial\u001b[38;5;132;01m}\u001b[39;00m\u001b[38;5;124m'\u001b[39m)\n\u001b[1;32m     32\u001b[0m \u001b[38;5;28;01melse\u001b[39;00m:\n\u001b[0;32m---> 33\u001b[0m     datum \u001b[38;5;241m=\u001b[39m \u001b[43mgenerate_datapoint\u001b[49m\u001b[43m(\u001b[49m\u001b[43md\u001b[49m\u001b[43m,\u001b[49m\n\u001b[1;32m     34\u001b[0m \u001b[43m                    \u001b[49m\u001b[43mk1\u001b[49m\u001b[43m,\u001b[49m\u001b[43mnum_experts1\u001b[49m\u001b[43m,\u001b[49m\u001b[43mactive_neurons1\u001b[49m\u001b[43m,\u001b[49m\n\u001b[1;32m     35\u001b[0m \u001b[43m                    \u001b[49m\u001b[43mk2\u001b[49m\u001b[43m,\u001b[49m\u001b[43mnum_experts2\u001b[49m\u001b[43m,\u001b[49m\u001b[43mactive_neurons2\u001b[49m\u001b[43m,\u001b[49m\n\u001b[1;32m     36\u001b[0m \u001b[43m                    \u001b[49m\u001b[43mnum_epochs\u001b[49m\u001b[43m,\u001b[49m\u001b[43mlr\u001b[49m\u001b[43m,\u001b[49m\u001b[43mbatch_size\u001b[49m\u001b[43m,\u001b[49m\n\u001b[1;32m     37\u001b[0m \u001b[43m                    \u001b[49m\u001b[43mtrial\u001b[49m\u001b[38;5;241;43m=\u001b[39;49m\u001b[38;5;241;43m0\u001b[39;49m\u001b[43m)\u001b[49m\n\u001b[1;32m     38\u001b[0m     val \u001b[38;5;241m=\u001b[39m datum[\u001b[38;5;124m'\u001b[39m\u001b[38;5;124mtest_losses\u001b[39m\u001b[38;5;124m'\u001b[39m][\u001b[38;5;241m-\u001b[39m\u001b[38;5;241m1\u001b[39m] \u001b[38;5;241m/\u001b[39m datum[\u001b[38;5;124m'\u001b[39m\u001b[38;5;124mbase_losses\u001b[39m\u001b[38;5;124m'\u001b[39m][\u001b[38;5;241m-\u001b[39m\u001b[38;5;241m1\u001b[39m]\n\u001b[1;32m     39\u001b[0m     vals_lr[lr]\u001b[38;5;241m.\u001b[39mappend(val)\n",
      "Cell \u001b[0;32mIn[2], line 49\u001b[0m, in \u001b[0;36mgenerate_datapoint\u001b[0;34m(d, k1, num_experts1, active_neurons1, k2, num_experts2, active_neurons2, num_epochs, lr, batch_size, trial)\u001b[0m\n\u001b[1;32m     47\u001b[0m \u001b[38;5;28;01mfor\u001b[39;00m epoch \u001b[38;5;129;01min\u001b[39;00m tqdm(\u001b[38;5;28mrange\u001b[39m(num_epochs)):\n\u001b[1;32m     48\u001b[0m     \u001b[38;5;28mprint\u001b[39m(\u001b[38;5;124mf\u001b[39m\u001b[38;5;124m'\u001b[39m\u001b[38;5;124mGenerating train and test for epoch \u001b[39m\u001b[38;5;132;01m{\u001b[39;00mepoch\u001b[38;5;132;01m}\u001b[39;00m\u001b[38;5;124m'\u001b[39m)\n\u001b[0;32m---> 49\u001b[0m     X_train, Y_train \u001b[38;5;241m=\u001b[39m \u001b[43mgenerate_teacher_data\u001b[49m\u001b[43m(\u001b[49m\u001b[43mteacher_model\u001b[49m\u001b[43m,\u001b[49m\u001b[43m \u001b[49m\u001b[43mn_samples\u001b[49m\u001b[38;5;241;43m=\u001b[39;49m\u001b[38;5;241;43m2\u001b[39;49m\u001b[38;5;241;43m*\u001b[39;49m\u001b[38;5;241;43m*\u001b[39;49m\u001b[38;5;241;43m18\u001b[39;49m\u001b[43m,\u001b[49m\u001b[43m \u001b[49m\u001b[43minput_dim\u001b[49m\u001b[38;5;241;43m=\u001b[39;49m\u001b[43minput_dim\u001b[49m\u001b[43m)\u001b[49m\n\u001b[1;32m     50\u001b[0m     X_test, Y_test \u001b[38;5;241m=\u001b[39m generate_teacher_data(teacher_model, n_samples\u001b[38;5;241m=\u001b[39m\u001b[38;5;241m2\u001b[39m\u001b[38;5;241m*\u001b[39m\u001b[38;5;241m*\u001b[39m\u001b[38;5;241m12\u001b[39m, input_dim\u001b[38;5;241m=\u001b[39minput_dim)\n\u001b[1;32m     51\u001b[0m     train_dataset \u001b[38;5;241m=\u001b[39m TensorDataset(X_train, Y_train)\n",
      "Cell \u001b[0;32mIn[1], line 71\u001b[0m, in \u001b[0;36mgenerate_teacher_data\u001b[0;34m(teacher_model, n_samples, input_dim)\u001b[0m\n\u001b[1;32m     69\u001b[0m \u001b[38;5;28;01mdef\u001b[39;00m\u001b[38;5;250m \u001b[39m\u001b[38;5;21mgenerate_teacher_data\u001b[39m(teacher_model, n_samples\u001b[38;5;241m=\u001b[39m\u001b[38;5;241m1000\u001b[39m, input_dim\u001b[38;5;241m=\u001b[39m\u001b[38;5;241m10\u001b[39m):\n\u001b[1;32m     70\u001b[0m     X \u001b[38;5;241m=\u001b[39m torch\u001b[38;5;241m.\u001b[39mrandn(n_samples, input_dim)\u001b[38;5;241m.\u001b[39mto(device)\n\u001b[0;32m---> 71\u001b[0m     Y \u001b[38;5;241m=\u001b[39m \u001b[43mteacher_model\u001b[49m\u001b[43m(\u001b[49m\u001b[43mX\u001b[49m\u001b[43m)\u001b[49m\u001b[38;5;241m.\u001b[39mdetach()\n\u001b[1;32m     72\u001b[0m     \u001b[38;5;28;01mreturn\u001b[39;00m X, Y\n",
      "File \u001b[0;32m/opt/anaconda3/envs/mypython/lib/python3.13/site-packages/torch/nn/modules/module.py:1739\u001b[0m, in \u001b[0;36mModule._wrapped_call_impl\u001b[0;34m(self, *args, **kwargs)\u001b[0m\n\u001b[1;32m   1737\u001b[0m     \u001b[38;5;28;01mreturn\u001b[39;00m \u001b[38;5;28mself\u001b[39m\u001b[38;5;241m.\u001b[39m_compiled_call_impl(\u001b[38;5;241m*\u001b[39margs, \u001b[38;5;241m*\u001b[39m\u001b[38;5;241m*\u001b[39mkwargs)  \u001b[38;5;66;03m# type: ignore[misc]\u001b[39;00m\n\u001b[1;32m   1738\u001b[0m \u001b[38;5;28;01melse\u001b[39;00m:\n\u001b[0;32m-> 1739\u001b[0m     \u001b[38;5;28;01mreturn\u001b[39;00m \u001b[38;5;28;43mself\u001b[39;49m\u001b[38;5;241;43m.\u001b[39;49m\u001b[43m_call_impl\u001b[49m\u001b[43m(\u001b[49m\u001b[38;5;241;43m*\u001b[39;49m\u001b[43margs\u001b[49m\u001b[43m,\u001b[49m\u001b[43m \u001b[49m\u001b[38;5;241;43m*\u001b[39;49m\u001b[38;5;241;43m*\u001b[39;49m\u001b[43mkwargs\u001b[49m\u001b[43m)\u001b[49m\n",
      "File \u001b[0;32m/opt/anaconda3/envs/mypython/lib/python3.13/site-packages/torch/nn/modules/module.py:1750\u001b[0m, in \u001b[0;36mModule._call_impl\u001b[0;34m(self, *args, **kwargs)\u001b[0m\n\u001b[1;32m   1745\u001b[0m \u001b[38;5;66;03m# If we don't have any hooks, we want to skip the rest of the logic in\u001b[39;00m\n\u001b[1;32m   1746\u001b[0m \u001b[38;5;66;03m# this function, and just call forward.\u001b[39;00m\n\u001b[1;32m   1747\u001b[0m \u001b[38;5;28;01mif\u001b[39;00m \u001b[38;5;129;01mnot\u001b[39;00m (\u001b[38;5;28mself\u001b[39m\u001b[38;5;241m.\u001b[39m_backward_hooks \u001b[38;5;129;01mor\u001b[39;00m \u001b[38;5;28mself\u001b[39m\u001b[38;5;241m.\u001b[39m_backward_pre_hooks \u001b[38;5;129;01mor\u001b[39;00m \u001b[38;5;28mself\u001b[39m\u001b[38;5;241m.\u001b[39m_forward_hooks \u001b[38;5;129;01mor\u001b[39;00m \u001b[38;5;28mself\u001b[39m\u001b[38;5;241m.\u001b[39m_forward_pre_hooks\n\u001b[1;32m   1748\u001b[0m         \u001b[38;5;129;01mor\u001b[39;00m _global_backward_pre_hooks \u001b[38;5;129;01mor\u001b[39;00m _global_backward_hooks\n\u001b[1;32m   1749\u001b[0m         \u001b[38;5;129;01mor\u001b[39;00m _global_forward_hooks \u001b[38;5;129;01mor\u001b[39;00m _global_forward_pre_hooks):\n\u001b[0;32m-> 1750\u001b[0m     \u001b[38;5;28;01mreturn\u001b[39;00m \u001b[43mforward_call\u001b[49m\u001b[43m(\u001b[49m\u001b[38;5;241;43m*\u001b[39;49m\u001b[43margs\u001b[49m\u001b[43m,\u001b[49m\u001b[43m \u001b[49m\u001b[38;5;241;43m*\u001b[39;49m\u001b[38;5;241;43m*\u001b[39;49m\u001b[43mkwargs\u001b[49m\u001b[43m)\u001b[49m\n\u001b[1;32m   1752\u001b[0m result \u001b[38;5;241m=\u001b[39m \u001b[38;5;28;01mNone\u001b[39;00m\n\u001b[1;32m   1753\u001b[0m called_always_called_hooks \u001b[38;5;241m=\u001b[39m \u001b[38;5;28mset\u001b[39m()\n",
      "Cell \u001b[0;32mIn[1], line 62\u001b[0m, in \u001b[0;36mMoE_TopK.forward\u001b[0;34m(self, x)\u001b[0m\n\u001b[1;32m     59\u001b[0m topk_weights \u001b[38;5;241m=\u001b[39m torch\u001b[38;5;241m.\u001b[39msoftmax(topk_vals, dim\u001b[38;5;241m=\u001b[39m\u001b[38;5;241m-\u001b[39m\u001b[38;5;241m1\u001b[39m)  \u001b[38;5;66;03m# Normalize weights over top-k\u001b[39;00m\n\u001b[1;32m     61\u001b[0m batch_size, _ \u001b[38;5;241m=\u001b[39m x\u001b[38;5;241m.\u001b[39mshape\n\u001b[0;32m---> 62\u001b[0m expert_outputs \u001b[38;5;241m=\u001b[39m \u001b[43mtorch\u001b[49m\u001b[38;5;241;43m.\u001b[39;49m\u001b[43mstack\u001b[49m\u001b[43m(\u001b[49m\u001b[43m[\u001b[49m\u001b[38;5;28;43mself\u001b[39;49m\u001b[38;5;241;43m.\u001b[39;49m\u001b[43mexperts\u001b[49m\u001b[43m[\u001b[49m\u001b[43mi\u001b[49m\u001b[43m]\u001b[49m\u001b[43m(\u001b[49m\u001b[43mx\u001b[49m\u001b[43m)\u001b[49m\u001b[43m \u001b[49m\u001b[38;5;28;43;01mfor\u001b[39;49;00m\u001b[43m \u001b[49m\u001b[43mi\u001b[49m\u001b[43m \u001b[49m\u001b[38;5;129;43;01min\u001b[39;49;00m\u001b[43m \u001b[49m\u001b[38;5;28;43mrange\u001b[39;49m\u001b[43m(\u001b[49m\u001b[38;5;28;43mself\u001b[39;49m\u001b[38;5;241;43m.\u001b[39;49m\u001b[43mnum_experts\u001b[49m\u001b[43m)\u001b[49m\u001b[43m]\u001b[49m\u001b[43m,\u001b[49m\u001b[43m \u001b[49m\u001b[43mdim\u001b[49m\u001b[38;5;241;43m=\u001b[39;49m\u001b[38;5;241;43m1\u001b[39;49m\u001b[43m)\u001b[49m  \u001b[38;5;66;03m# (batch_size, num_experts, output_dim)\u001b[39;00m\n\u001b[1;32m     63\u001b[0m selected_expert_outputs \u001b[38;5;241m=\u001b[39m torch\u001b[38;5;241m.\u001b[39mgather(expert_outputs, \u001b[38;5;241m1\u001b[39m, topk_idxs\u001b[38;5;241m.\u001b[39munsqueeze(\u001b[38;5;241m-\u001b[39m\u001b[38;5;241m1\u001b[39m)\u001b[38;5;241m.\u001b[39mexpand(\u001b[38;5;241m-\u001b[39m\u001b[38;5;241m1\u001b[39m, \u001b[38;5;241m-\u001b[39m\u001b[38;5;241m1\u001b[39m, expert_outputs\u001b[38;5;241m.\u001b[39mshape[\u001b[38;5;241m-\u001b[39m\u001b[38;5;241m1\u001b[39m]))\n\u001b[1;32m     65\u001b[0m output \u001b[38;5;241m=\u001b[39m torch\u001b[38;5;241m.\u001b[39msum(selected_expert_outputs \u001b[38;5;241m*\u001b[39m topk_weights\u001b[38;5;241m.\u001b[39munsqueeze(\u001b[38;5;241m-\u001b[39m\u001b[38;5;241m1\u001b[39m), dim\u001b[38;5;241m=\u001b[39m\u001b[38;5;241m1\u001b[39m)\n",
      "\u001b[0;31mKeyboardInterrupt\u001b[0m: "
     ]
    }
   ],
   "source": [
    "# Factor of 25% overparametrization in student model\n",
    "d = 256\n",
    "active_neurons1 = 256\n",
    "active_neurons2 = 320\n",
    "\n",
    "batch_size = 2048\n",
    "num_epochs = 100\n",
    "trial = 0\n",
    "generate_srun = False\n",
    "data_dict = {}\n",
    "# for num_experts2, k2 in [(64,16),(32,8), (16,4), (8,2)]:\n",
    "#     for num_experts1, k1 in [(64,16),(32,8),(16,4),(8,2)]:\n",
    "student_configs = []\n",
    "for granularity in [2,4,6,8]:\n",
    "    for sparsity in [2,4,8,16,32]:\n",
    "        student_configs.append((sparsity*granularity,granularity))\n",
    "\n",
    "for num_experts2, k2 in student_configs:\n",
    "    for num_experts1, k1 in [(16,8)]:\n",
    "        vals_lr = {}\n",
    "        for lr in [1e-3, 1e-2]:\n",
    "            vals_lr[lr] = []\n",
    "            for trial in range(1):\n",
    "                if generate_srun:\n",
    "                    print(f'srun python moe_student_teacher.py --d {d} \\\n",
    "                        --k1 {k1} --num_experts1 {num_experts1} --active_neurons1 {active_neurons1} \\\n",
    "                        --k2 {k2} --num_experts2 {num_experts2} --active_neurons2 {active_neurons2} \\\n",
    "                        --num_epochs {num_epochs} \\\n",
    "                        --lr {lr} \\\n",
    "                        --batch_size {batch_size} \\\n",
    "                        --trial {trial}')\n",
    "                else:\n",
    "                    datum = generate_datapoint(d,\n",
    "                                    k1,num_experts1,active_neurons1,\n",
    "                                    k2,num_experts2,active_neurons2,\n",
    "                                    num_epochs,lr,batch_size,\n",
    "                                    trial=0)\n",
    "                    val = datum['test_losses'][-1] / datum['base_losses'][-1]\n",
    "                    vals_lr[lr].append(val)\n",
    "        data_dict[((num_experts1,k1),(num_experts2,k2))] = vals_lr\n",
    "\n",
    "\n",
    "import seaborn as sns\n",
    "import pandas as pd\n",
    "import numpy as np\n",
    "\n",
    "print(data_dict)\n",
    "processed_data_dict = {}\n",
    "for k in data_dict.keys():\n",
    "    bestmean = float('inf')\n",
    "    for lr in data_dict[k].keys():\n",
    "        if sum(data_dict[k][lr]) / len(data_dict[k][lr]) < bestmean:\n",
    "            bestmean = sum(data_dict[k][lr]) / len(data_dict[k][lr])\n",
    "    processed_data_dict[k] = bestmean\n",
    "\n",
    "\n",
    "student_labels = [(128,2),(64,2),(32,2),(16,2),(8,2),(4,2),(64,4),(32,4),(16,4),(8,4)]\n",
    "teacher_labels = [(16,8)]\n",
    "raw_data = np.zeros((len(student_labels), len(teacher_labels)))\n",
    "for i, student in enumerate(student_labels):\n",
    "    for j, teacher in enumerate(teacher_labels):\n",
    "        print((student,teacher))\n",
    "        if (teacher, student) in processed_data_dict.keys():\n",
    "            raw_data[i,j] = processed_data_dict[(teacher, student)]\n",
    "        else:\n",
    "            raw_data[i,j] = float('inf')\n",
    "\n",
    "print(raw_data)\n",
    "\n",
    "\n",
    "import matplotlib.pyplot as plt\n",
    "\n",
    "# Convert raw_data into a DataFrame for heatmap plotting\n",
    "heatmap_df = pd.DataFrame(raw_data, index=[f'{label[0]}e{label[1]}a' for label in student_labels], columns=[f'{label[0]}e{label[1]}a' for label in teacher_labels])\n",
    "\n",
    "print(heatmap_df)\n",
    "\n",
    "# Plot the heatmap\n",
    "plt.figure(figsize=(10, 8))\n",
    "sns.heatmap(heatmap_df.T, annot=True, fmt=\".2f\", cmap=\"viridis\") # , cbar_kws={'label': 'Test error'}\n",
    "plt.title(\"Fitting teacher model with larger students that have roughly the same number of active neurons\")\n",
    "plt.xlabel(\"Student Architecture\")\n",
    "plt.ylabel(\"Teacher Architecture\")\n",
    "plt.gcf().set_size_inches(12, 6)\n",
    "plt.show()\n",
    "\n",
    "\n",
    "\n"
   ]
  },
  {
   "cell_type": "markdown",
   "metadata": {},
   "source": [
    "# Sparsity 0.5, d = active neurons. 12.5% overparametrized student"
   ]
  },
  {
   "cell_type": "code",
   "execution_count": 51,
   "metadata": {},
   "outputs": [
    {
     "name": "stdout",
     "output_type": "stream",
     "text": [
      "Experiment file experiment_data/d256_4e2a256s_32e16a288s_lr0.001_b2048_e100_trial0.pkl already exists. Loading data.\n",
      "Experiment file experiment_data/d256_4e2a256s_32e16a288s_lr0.01_b2048_e100_trial0.pkl already exists. Loading data.\n",
      "Experiment file experiment_data/d256_8e4a256s_32e16a288s_lr0.001_b2048_e100_trial0.pkl already exists. Loading data.\n",
      "Experiment file experiment_data/d256_8e4a256s_32e16a288s_lr0.01_b2048_e100_trial0.pkl already exists. Loading data.\n",
      "Experiment file experiment_data/d256_16e8a256s_32e16a288s_lr0.001_b2048_e100_trial0.pkl already exists. Loading data.\n",
      "Experiment file experiment_data/d256_16e8a256s_32e16a288s_lr0.01_b2048_e100_trial0.pkl already exists. Loading data.\n",
      "Experiment file experiment_data/d256_32e16a256s_32e16a288s_lr0.001_b2048_e100_trial0.pkl already exists. Loading data.\n",
      "Experiment file experiment_data/d256_32e16a256s_32e16a288s_lr0.01_b2048_e100_trial0.pkl already exists. Loading data.\n",
      "Experiment file experiment_data/d256_4e2a256s_4e2a288s_lr0.001_b2048_e100_trial0.pkl already exists. Loading data.\n",
      "Experiment file experiment_data/d256_4e2a256s_4e2a288s_lr0.01_b2048_e100_trial0.pkl already exists. Loading data.\n",
      "Experiment file experiment_data/d256_8e4a256s_4e2a288s_lr0.001_b2048_e100_trial0.pkl already exists. Loading data.\n",
      "Experiment file experiment_data/d256_8e4a256s_4e2a288s_lr0.01_b2048_e100_trial0.pkl already exists. Loading data.\n",
      "Experiment file experiment_data/d256_16e8a256s_4e2a288s_lr0.001_b2048_e100_trial0.pkl already exists. Loading data.\n",
      "Experiment file experiment_data/d256_16e8a256s_4e2a288s_lr0.01_b2048_e100_trial0.pkl already exists. Loading data.\n",
      "Experiment file experiment_data/d256_32e16a256s_4e2a288s_lr0.001_b2048_e100_trial0.pkl already exists. Loading data.\n",
      "Experiment file experiment_data/d256_32e16a256s_4e2a288s_lr0.01_b2048_e100_trial0.pkl already exists. Loading data.\n",
      "Experiment file experiment_data/d256_4e2a256s_8e4a288s_lr0.001_b2048_e100_trial0.pkl already exists. Loading data.\n",
      "Experiment file experiment_data/d256_4e2a256s_8e4a288s_lr0.01_b2048_e100_trial0.pkl already exists. Loading data.\n",
      "Experiment file experiment_data/d256_8e4a256s_8e4a288s_lr0.001_b2048_e100_trial0.pkl already exists. Loading data.\n",
      "Experiment file experiment_data/d256_8e4a256s_8e4a288s_lr0.01_b2048_e100_trial0.pkl already exists. Loading data.\n",
      "Experiment file experiment_data/d256_16e8a256s_8e4a288s_lr0.001_b2048_e100_trial0.pkl already exists. Loading data.\n",
      "Experiment file experiment_data/d256_16e8a256s_8e4a288s_lr0.01_b2048_e100_trial0.pkl already exists. Loading data.\n",
      "Experiment file experiment_data/d256_32e16a256s_8e4a288s_lr0.001_b2048_e100_trial0.pkl already exists. Loading data.\n",
      "Experiment file experiment_data/d256_32e16a256s_8e4a288s_lr0.01_b2048_e100_trial0.pkl already exists. Loading data.\n",
      "Experiment file experiment_data/d256_4e2a256s_16e8a288s_lr0.001_b2048_e100_trial0.pkl already exists. Loading data.\n",
      "Experiment file experiment_data/d256_4e2a256s_16e8a288s_lr0.01_b2048_e100_trial0.pkl already exists. Loading data.\n",
      "Experiment file experiment_data/d256_8e4a256s_16e8a288s_lr0.001_b2048_e100_trial0.pkl already exists. Loading data.\n",
      "Experiment file experiment_data/d256_8e4a256s_16e8a288s_lr0.01_b2048_e100_trial0.pkl already exists. Loading data.\n",
      "Experiment file experiment_data/d256_16e8a256s_16e8a288s_lr0.001_b2048_e100_trial0.pkl already exists. Loading data.\n",
      "Experiment file experiment_data/d256_16e8a256s_16e8a288s_lr0.01_b2048_e100_trial0.pkl already exists. Loading data.\n",
      "Experiment file experiment_data/d256_32e16a256s_16e8a288s_lr0.001_b2048_e100_trial0.pkl already exists. Loading data.\n",
      "Experiment file experiment_data/d256_32e16a256s_16e8a288s_lr0.01_b2048_e100_trial0.pkl already exists. Loading data.\n",
      "{((4, 2), (32, 16)): {0.001: [0.08782873273374996], 0.01: [0.0003831031969153091]}, ((8, 4), (32, 16)): {0.001: [0.02429751064852873], 0.01: [0.0011261617394634114]}, ((16, 8), (32, 16)): {0.001: [0.020390207784698047], 0.01: [0.05024134487682664]}, ((32, 16), (32, 16)): {0.001: [0.011203065968753615], 0.01: [0.05534163671982787]}, ((4, 2), (4, 2)): {0.001: [2.8327939058493826e-05], 0.01: [0.0004008066431045631]}, ((8, 4), (4, 2)): {0.001: [0.19246156129943942], 0.01: [0.1950482468886667]}, ((16, 8), (4, 2)): {0.001: [0.2296739685873776], 0.01: [0.2515670177533559]}, ((32, 16), (4, 2)): {0.001: [0.23807359383483934], 0.01: [0.2600636390827014]}, ((4, 2), (8, 4)): {0.001: [0.00021454565475292287], 0.01: [0.0008021888673383185]}, ((8, 4), (8, 4)): {0.001: [3.2043026823488937e-07], 0.01: [0.00011344951395732146]}, ((16, 8), (8, 4)): {0.001: [0.1795109407731453], 0.01: [0.1972912327923414]}, ((32, 16), (8, 4)): {0.001: [0.22744180458726215], 0.01: [0.26616612255941385]}, ((4, 2), (16, 8)): {0.001: [0.0173854930232531], 0.01: [0.0002832784015357437]}, ((8, 4), (16, 8)): {0.001: [0.015059614485680089], 0.01: [0.00013314185393785357]}, ((16, 8), (16, 8)): {0.001: [7.32267416782214e-05], 0.01: [4.042062500266589e-05]}, ((32, 16), (16, 8)): {0.001: [0.17795396399481736], 0.01: [0.19644699661667067]}}\n",
      "[[2.83279391e-05 1.92461561e-01 2.29673969e-01 2.38073594e-01]\n",
      " [2.14545655e-04 3.20430268e-07 1.79510941e-01 2.27441805e-01]\n",
      " [2.83278402e-04 1.33141854e-04 4.04206250e-05 1.77953964e-01]\n",
      " [3.83103197e-04 1.12616174e-03 2.03902078e-02 1.12030660e-02]]\n",
      "            4e2a          8e4a     16e8a    32e16a\n",
      "4e2a    0.000028  1.924616e-01  0.229674  0.238074\n",
      "8e4a    0.000215  3.204303e-07  0.179511  0.227442\n",
      "16e8a   0.000283  1.331419e-04  0.000040  0.177954\n",
      "32e16a  0.000383  1.126162e-03  0.020390  0.011203\n"
     ]
    },
    {
     "data": {
      "image/png": "[encoded data removed]",
      "text/plain": [
       "<Figure size 1200x600 with 2 Axes>"
      ]
     },
     "metadata": {},
     "output_type": "display_data"
    }
   ],
   "source": [
    "# Factor of 1.125 overparametrization in student model\n",
    "d = 256\n",
    "active_neurons1 = 256\n",
    "active_neurons2 = 288\n",
    "\n",
    "batch_size = 2048\n",
    "num_epochs = 100\n",
    "trial = 0\n",
    "generate_srun = False\n",
    "data_dict = {}\n",
    "for num_experts2, k2 in [(32,16), (4,2), (8,4), (16,8)]:\n",
    "    for num_experts1, k1 in [(4,2), (8,4), (16,8), (32,16)]:\n",
    "        vals_lr = {}\n",
    "        for lr in [1e-3, 1e-2]:\n",
    "            vals_lr[lr] = []\n",
    "            for trial in range(1):\n",
    "                if generate_srun:\n",
    "                    print(f'srun python moe_student_teacher.py --d {d} \\\n",
    "                        --k1 {k1} --num_experts1 {num_experts1} --active_neurons1 {active_neurons1} \\\n",
    "                        --k2 {k2} --num_experts2 {num_experts2} --active_neurons2 {active_neurons2} \\\n",
    "                        --num_epochs {num_epochs} \\\n",
    "                        --lr {lr} \\\n",
    "                        --batch_size {batch_size} \\\n",
    "                        --trial {trial}')\n",
    "                else:\n",
    "                    datum = generate_datapoint(d,\n",
    "                                    k1,num_experts1,active_neurons1,\n",
    "                                    k2,num_experts2,active_neurons2,\n",
    "                                    num_epochs,lr,batch_size,\n",
    "                                    trial=0)\n",
    "                    val = datum['test_losses'][-1] / datum['base_losses'][-1]\n",
    "                    vals_lr[lr].append(val)\n",
    "        data_dict[((num_experts1,k1),(num_experts2,k2))] = vals_lr\n",
    "\n",
    "\n",
    "import seaborn as sns\n",
    "import pandas as pd\n",
    "import numpy as np\n",
    "\n",
    "print(data_dict)\n",
    "processed_data_dict = {}\n",
    "for k in data_dict.keys():\n",
    "    bestmean = float('inf')\n",
    "    for lr in data_dict[k].keys():\n",
    "        if sum(data_dict[k][lr]) / len(data_dict[k][lr]) < bestmean:\n",
    "            bestmean = sum(data_dict[k][lr]) / len(data_dict[k][lr])\n",
    "    processed_data_dict[k] = bestmean\n",
    "\n",
    "\n",
    "student_labels = [(4,2), (8,4), (16,8), (32,16)]\n",
    "teacher_labels = [(4,2), (8,4), (16,8), (32,16)]\n",
    "raw_data = np.zeros((len(student_labels), len(teacher_labels)))\n",
    "for i, student in enumerate(student_labels):\n",
    "    for j, teacher in enumerate(teacher_labels):\n",
    "        if (teacher, student) in processed_data_dict.keys():\n",
    "            raw_data[i,j] = processed_data_dict[(teacher, student)]\n",
    "        else:\n",
    "            raw_data[i,j] = float('inf')\n",
    "\n",
    "print(raw_data)\n",
    "\n",
    "\n",
    "import matplotlib.pyplot as plt\n",
    "\n",
    "# Convert raw_data into a DataFrame for heatmap plotting\n",
    "heatmap_df = pd.DataFrame(raw_data, index=[f'{label[0]}e{label[1]}a' for label in student_labels], columns=[f'{label[0]}e{label[1]}a' for label in teacher_labels])\n",
    "\n",
    "print(heatmap_df)\n",
    "\n",
    "# Plot the heatmap\n",
    "plt.figure(figsize=(10, 8))\n",
    "sns.heatmap(heatmap_df.T, annot=True, fmt=\".2f\", cmap=\"viridis\") # , cbar_kws={'label': 'Test error'}\n",
    "plt.title(\"Test error in fitting teacher model by student model with 12.5% more active parameters\")\n",
    "plt.xlabel(\"Student Architecture\")\n",
    "plt.ylabel(\"Teacher Architecture\")\n",
    "plt.gcf().set_size_inches(12, 6)\n",
    "plt.show()\n",
    "\n",
    "\n",
    "\n"
   ]
  },
  {
   "cell_type": "markdown",
   "metadata": {},
   "source": [
    "# Sparsity 0.25, d = active neurons. 25% overparametrized student"
   ]
  },
  {
   "cell_type": "code",
   "execution_count": 55,
   "metadata": {},
   "outputs": [
    {
     "name": "stdout",
     "output_type": "stream",
     "text": [
      "Experiment file experiment_data/d256_16e4a256s_16e4a288s_lr0.001_b2048_e100_trial0.pkl already exists. Loading data.\n",
      "Experiment file experiment_data/d256_16e4a256s_16e4a288s_lr0.01_b2048_e100_trial0.pkl already exists. Loading data.\n",
      "Experiment file experiment_data/d256_8e2a256s_16e4a288s_lr0.001_b2048_e100_trial0.pkl already exists. Loading data.\n",
      "Experiment file experiment_data/d256_8e2a256s_16e4a288s_lr0.01_b2048_e100_trial0.pkl already exists. Loading data.\n",
      "Experiment file experiment_data/d256_16e4a256s_8e2a288s_lr0.001_b2048_e100_trial0.pkl already exists. Loading data.\n",
      "Experiment file experiment_data/d256_16e4a256s_8e2a288s_lr0.01_b2048_e100_trial0.pkl already exists. Loading data.\n",
      "Experiment file experiment_data/d256_8e2a256s_8e2a288s_lr0.001_b2048_e100_trial0.pkl already exists. Loading data.\n",
      "Experiment file experiment_data/d256_8e2a256s_8e2a288s_lr0.01_b2048_e100_trial0.pkl already exists. Loading data.\n",
      "{((16, 4), (16, 4)): {0.001: [0.0020352033567345605], 0.01: [0.0008386777064781363]}, ((8, 2), (16, 4)): {0.001: [0.12153726620266359], 0.01: [0.10951228986444499]}, ((16, 4), (8, 2)): {0.001: [0.299002028388457], 0.01: [0.3179307403280183]}, ((8, 2), (8, 2)): {0.001: [0.011886753772359938], 0.01: [0.012774213550095122]}}\n",
      "[[0.00083868 0.10951229]\n",
      " [0.29900203 0.01188675]]\n",
      "          16e4a      8e2a\n",
      "16e4a  0.000839  0.109512\n",
      "8e2a   0.299002  0.011887\n"
     ]
    },
    {
     "data": {
      "image/png": "[encoded data removed]",
      "text/plain": [
       "<Figure size 1200x600 with 2 Axes>"
      ]
     },
     "metadata": {},
     "output_type": "display_data"
    }
   ],
   "source": [
    "# Factor of 1.125 overparametrization in student model\n",
    "d = 256\n",
    "active_neurons1 = 256\n",
    "active_neurons2 = 288\n",
    "\n",
    "batch_size = 2048\n",
    "num_epochs = 100\n",
    "trial = 0\n",
    "generate_srun = False\n",
    "data_dict = {}\n",
    "# for num_experts2, k2 in [(64,16),(32,8), (16,4), (8,2)]:\n",
    "#     for num_experts1, k1 in [(64,16),(32,8),(16,4),(8,2)]:\n",
    "for num_experts2, k2 in [(16,4),(8,2)]:\n",
    "    for num_experts1, k1 in [(16,4),(8,2)]:\n",
    "        vals_lr = {}\n",
    "        for lr in [1e-3, 1e-2]:\n",
    "            vals_lr[lr] = []\n",
    "            for trial in range(1):\n",
    "                if generate_srun:\n",
    "                    print(f'srun python moe_student_teacher.py --d {d} \\\n",
    "                        --k1 {k1} --num_experts1 {num_experts1} --active_neurons1 {active_neurons1} \\\n",
    "                        --k2 {k2} --num_experts2 {num_experts2} --active_neurons2 {active_neurons2} \\\n",
    "                        --num_epochs {num_epochs} \\\n",
    "                        --lr {lr} \\\n",
    "                        --batch_size {batch_size} \\\n",
    "                        --trial {trial}')\n",
    "                else:\n",
    "                    datum = generate_datapoint(d,\n",
    "                                    k1,num_experts1,active_neurons1,\n",
    "                                    k2,num_experts2,active_neurons2,\n",
    "                                    num_epochs,lr,batch_size,\n",
    "                                    trial=0)\n",
    "                    val = datum['test_losses'][-1] / datum['base_losses'][-1]\n",
    "                    vals_lr[lr].append(val)\n",
    "        data_dict[((num_experts1,k1),(num_experts2,k2))] = vals_lr\n",
    "\n",
    "\n",
    "import seaborn as sns\n",
    "import pandas as pd\n",
    "import numpy as np\n",
    "\n",
    "print(data_dict)\n",
    "processed_data_dict = {}\n",
    "for k in data_dict.keys():\n",
    "    bestmean = float('inf')\n",
    "    for lr in data_dict[k].keys():\n",
    "        if sum(data_dict[k][lr]) / len(data_dict[k][lr]) < bestmean:\n",
    "            bestmean = sum(data_dict[k][lr]) / len(data_dict[k][lr])\n",
    "    processed_data_dict[k] = bestmean\n",
    "\n",
    "\n",
    "student_labels = [(16,4),(8,2)]\n",
    "teacher_labels = [(16,4),(8,2)]\n",
    "raw_data = np.zeros((len(student_labels), len(teacher_labels)))\n",
    "for i, student in enumerate(student_labels):\n",
    "    for j, teacher in enumerate(teacher_labels):\n",
    "        if (teacher, student) in processed_data_dict.keys():\n",
    "            raw_data[i,j] = processed_data_dict[(teacher, student)]\n",
    "        else:\n",
    "            raw_data[i,j] = float('inf')\n",
    "\n",
    "print(raw_data)\n",
    "\n",
    "\n",
    "import matplotlib.pyplot as plt\n",
    "\n",
    "# Convert raw_data into a DataFrame for heatmap plotting\n",
    "heatmap_df = pd.DataFrame(raw_data, index=[f'{label[0]}e{label[1]}a' for label in student_labels], columns=[f'{label[0]}e{label[1]}a' for label in teacher_labels])\n",
    "\n",
    "print(heatmap_df)\n",
    "\n",
    "# Plot the heatmap\n",
    "plt.figure(figsize=(10, 8))\n",
    "sns.heatmap(heatmap_df.T, annot=True, fmt=\".2f\", cmap=\"viridis\") # , cbar_kws={'label': 'Test error'}\n",
    "plt.title(\"Test error in fitting teacher model by student model with 12.5% more active parameters\")\n",
    "plt.xlabel(\"Student Architecture\")\n",
    "plt.ylabel(\"Teacher Architecture\")\n",
    "plt.gcf().set_size_inches(12, 6)\n",
    "plt.show()\n",
    "\n",
    "\n",
    "\n"
   ]
  },
  {
   "cell_type": "markdown",
   "metadata": {},
   "source": [
    "# Teacher granularity 8, student granularity 2 with increasing numbers of experts, d = active neurons. 25% overparametrized active student"
   ]
  },
  {
   "cell_type": "code",
   "execution_count": null,
   "metadata": {},
   "outputs": [
    {
     "name": "stdout",
     "output_type": "stream",
     "text": [
      "Generating teacher model with 8 / 16 experts and 256 active neurons\n",
      "Training student model with 2 / 128 experts and 320 active neurons\n"
     ]
    },
    {
     "name": "stderr",
     "output_type": "stream",
     "text": [
      "  0%|                                                                                                                                                                             | 0/100 [00:00<?, ?it/s]"
     ]
    },
    {
     "name": "stdout",
     "output_type": "stream",
     "text": [
      "Generating train and test for epoch 0\n"
     ]
    },
    {
     "name": "stderr",
     "output_type": "stream",
     "text": [
      "  1%|█▋                                                                                                                                                                   | 1/100 [00:06<10:51,  6.58s/it]"
     ]
    },
    {
     "name": "stdout",
     "output_type": "stream",
     "text": [
      "Epoch [1/100], Train Loss: 1.9379, Test Loss: 1.9374, Base Loss: 2.3876\n",
      "Generating train and test for epoch 1\n"
     ]
    },
    {
     "name": "stderr",
     "output_type": "stream",
     "text": [
      "  2%|███▎                                                                                                                                                                 | 2/100 [00:13<10:52,  6.65s/it]"
     ]
    },
    {
     "name": "stdout",
     "output_type": "stream",
     "text": [
      "Epoch [2/100], Train Loss: 1.3853, Test Loss: 1.3746, Base Loss: 2.3844\n",
      "Generating train and test for epoch 2\n"
     ]
    },
    {
     "name": "stderr",
     "output_type": "stream",
     "text": [
      "  3%|████▉                                                                                                                                                                | 3/100 [00:19<10:33,  6.53s/it]"
     ]
    },
    {
     "name": "stdout",
     "output_type": "stream",
     "text": [
      "Epoch [3/100], Train Loss: 1.0965, Test Loss: 1.0928, Base Loss: 2.3816\n",
      "Generating train and test for epoch 3\n"
     ]
    }
   ],
   "source": [
    "# Factor of 1.125 overparametrization in student model\n",
    "d = 256\n",
    "active_neurons1 = 256\n",
    "active_neurons2 = 320\n",
    "\n",
    "batch_size = 2048\n",
    "num_epochs = 100\n",
    "trial = 0\n",
    "generate_srun = False\n",
    "data_dict = {}\n",
    "# for num_experts2, k2 in [(64,16),(32,8), (16,4), (8,2)]:\n",
    "#     for num_experts1, k1 in [(64,16),(32,8),(16,4),(8,2)]:\n",
    "for num_experts2, k2 in [(128,2),(64,2),(32,2),(16,2),(8,2),(4,2),(64,4),(32,4),(16,4),(8,4)]:\n",
    "    for num_experts1, k1 in [(16,8)]:\n",
    "        vals_lr = {}\n",
    "        for lr in [1e-3, 1e-2]:\n",
    "            vals_lr[lr] = []\n",
    "            for trial in range(1):\n",
    "                if generate_srun:\n",
    "                    print(f'srun python moe_student_teacher.py --d {d} \\\n",
    "                        --k1 {k1} --num_experts1 {num_experts1} --active_neurons1 {active_neurons1} \\\n",
    "                        --k2 {k2} --num_experts2 {num_experts2} --active_neurons2 {active_neurons2} \\\n",
    "                        --num_epochs {num_epochs} \\\n",
    "                        --lr {lr} \\\n",
    "                        --batch_size {batch_size} \\\n",
    "                        --trial {trial}')\n",
    "                else:\n",
    "                    datum = generate_datapoint(d,\n",
    "                                    k1,num_experts1,active_neurons1,\n",
    "                                    k2,num_experts2,active_neurons2,\n",
    "                                    num_epochs,lr,batch_size,\n",
    "                                    trial=0)\n",
    "                    val = datum['test_losses'][-1] / datum['base_losses'][-1]\n",
    "                    vals_lr[lr].append(val)\n",
    "        data_dict[((num_experts1,k1),(num_experts2,k2))] = vals_lr\n",
    "\n",
    "\n",
    "import seaborn as sns\n",
    "import pandas as pd\n",
    "import numpy as np\n",
    "\n",
    "print(data_dict)\n",
    "processed_data_dict = {}\n",
    "for k in data_dict.keys():\n",
    "    bestmean = float('inf')\n",
    "    for lr in data_dict[k].keys():\n",
    "        if sum(data_dict[k][lr]) / len(data_dict[k][lr]) < bestmean:\n",
    "            bestmean = sum(data_dict[k][lr]) / len(data_dict[k][lr])\n",
    "    processed_data_dict[k] = bestmean\n",
    "\n",
    "\n",
    "student_labels = [(128,2),(64,2),(32,2),(16,2),(8,2),(4,2),(64,4),(32,4),(16,4),(8,4)]\n",
    "teacher_labels = [(16,8)]\n",
    "raw_data = np.zeros((len(student_labels), len(teacher_labels)))\n",
    "for i, student in enumerate(student_labels):\n",
    "    for j, teacher in enumerate(teacher_labels):\n",
    "        print((student,teacher))\n",
    "        if (teacher, student) in processed_data_dict.keys():\n",
    "            raw_data[i,j] = processed_data_dict[(teacher, student)]\n",
    "        else:\n",
    "            raw_data[i,j] = float('inf')\n",
    "\n",
    "print(raw_data)\n",
    "\n",
    "\n",
    "import matplotlib.pyplot as plt\n",
    "\n",
    "# Convert raw_data into a DataFrame for heatmap plotting\n",
    "heatmap_df = pd.DataFrame(raw_data, index=[f'{label[0]}e{label[1]}a' for label in student_labels], columns=[f'{label[0]}e{label[1]}a' for label in teacher_labels])\n",
    "\n",
    "print(heatmap_df)\n",
    "\n",
    "# Plot the heatmap\n",
    "plt.figure(figsize=(10, 8))\n",
    "sns.heatmap(heatmap_df.T, annot=True, fmt=\".2f\", cmap=\"viridis\") # , cbar_kws={'label': 'Test error'}\n",
    "plt.title(\"Fitting teacher model with larger students that have roughly the same number of active neurons\")\n",
    "plt.xlabel(\"Student Architecture\")\n",
    "plt.ylabel(\"Teacher Architecture\")\n",
    "plt.gcf().set_size_inches(12, 6)\n",
    "plt.show()\n",
    "\n",
    "\n",
    "\n"
   ]
  },
  {
   "cell_type": "code",
   "execution_count": null,
   "metadata": {},
   "outputs": [],
   "source": []
  },
  {
   "cell_type": "code",
   "execution_count": null,
   "metadata": {},
   "outputs": [
    {
     "ename": "ValueError",
     "evalue": "could not convert string to float: '(4, 2)'",
     "output_type": "error",
     "traceback": [
      "\u001b[31m---------------------------------------------------------------------------\u001b[39m",
      "\u001b[31mValueError\u001b[39m                                Traceback (most recent call last)",
      "\u001b[36mCell\u001b[39m\u001b[36m \u001b[39m\u001b[32mIn[16]\u001b[39m\u001b[32m, line 22\u001b[39m\n\u001b[32m     17\u001b[39m \u001b[38;5;66;03m# # Create a pivot table for the heatmap\u001b[39;00m\n\u001b[32m     18\u001b[39m \u001b[38;5;66;03m# heatmap_data = df.pivot(\"Teacher\", \"Student\", \"Best Mean\")\u001b[39;00m\n\u001b[32m     19\u001b[39m \n\u001b[32m     20\u001b[39m \u001b[38;5;66;03m# Plot the heatmap\u001b[39;00m\n\u001b[32m     21\u001b[39m plt.figure(figsize=(\u001b[32m10\u001b[39m, \u001b[32m8\u001b[39m))\n\u001b[32m---> \u001b[39m\u001b[32m22\u001b[39m \u001b[43msns\u001b[49m\u001b[43m.\u001b[49m\u001b[43mheatmap\u001b[49m\u001b[43m(\u001b[49m\u001b[43mdf\u001b[49m\u001b[43m,\u001b[49m\u001b[43m \u001b[49m\u001b[43mannot\u001b[49m\u001b[43m=\u001b[49m\u001b[38;5;28;43;01mTrue\u001b[39;49;00m\u001b[43m,\u001b[49m\u001b[43m \u001b[49m\u001b[43mfmt\u001b[49m\u001b[43m=\u001b[49m\u001b[33;43m\"\u001b[39;49m\u001b[33;43m.2e\u001b[39;49m\u001b[33;43m\"\u001b[39;49m\u001b[43m,\u001b[49m\u001b[43m \u001b[49m\u001b[43mcmap\u001b[49m\u001b[43m=\u001b[49m\u001b[33;43m\"\u001b[39;49m\u001b[33;43mviridis\u001b[39;49m\u001b[33;43m\"\u001b[39;49m\u001b[43m,\u001b[49m\u001b[43m \u001b[49m\u001b[43mcbar_kws\u001b[49m\u001b[43m=\u001b[49m\u001b[43m{\u001b[49m\u001b[33;43m'\u001b[39;49m\u001b[33;43mlabel\u001b[39;49m\u001b[33;43m'\u001b[39;49m\u001b[43m:\u001b[49m\u001b[43m \u001b[49m\u001b[33;43m'\u001b[39;49m\u001b[33;43mBest Mean\u001b[39;49m\u001b[33;43m'\u001b[39;49m\u001b[43m}\u001b[49m\u001b[43m)\u001b[49m\n\u001b[32m     23\u001b[39m plt.title(\u001b[33m\"\u001b[39m\u001b[33mHeatmap of Best Mean Values\u001b[39m\u001b[33m\"\u001b[39m)\n\u001b[32m     24\u001b[39m plt.xlabel(\u001b[33m\"\u001b[39m\u001b[33mStudent\u001b[39m\u001b[33m\"\u001b[39m)\n",
      "\u001b[36mFile \u001b[39m\u001b[32m~/miniconda3/envs/pytorch_env2/lib/python3.13/site-packages/seaborn/matrix.py:446\u001b[39m, in \u001b[36mheatmap\u001b[39m\u001b[34m(data, vmin, vmax, cmap, center, robust, annot, fmt, annot_kws, linewidths, linecolor, cbar, cbar_kws, cbar_ax, square, xticklabels, yticklabels, mask, ax, **kwargs)\u001b[39m\n\u001b[32m    365\u001b[39m \u001b[38;5;250m\u001b[39m\u001b[33;03m\"\"\"Plot rectangular data as a color-encoded matrix.\u001b[39;00m\n\u001b[32m    366\u001b[39m \n\u001b[32m    367\u001b[39m \u001b[33;03mThis is an Axes-level function and will draw the heatmap into the\u001b[39;00m\n\u001b[32m   (...)\u001b[39m\u001b[32m    443\u001b[39m \n\u001b[32m    444\u001b[39m \u001b[33;03m\"\"\"\u001b[39;00m\n\u001b[32m    445\u001b[39m \u001b[38;5;66;03m# Initialize the plotter object\u001b[39;00m\n\u001b[32m--> \u001b[39m\u001b[32m446\u001b[39m plotter = \u001b[43m_HeatMapper\u001b[49m\u001b[43m(\u001b[49m\u001b[43mdata\u001b[49m\u001b[43m,\u001b[49m\u001b[43m \u001b[49m\u001b[43mvmin\u001b[49m\u001b[43m,\u001b[49m\u001b[43m \u001b[49m\u001b[43mvmax\u001b[49m\u001b[43m,\u001b[49m\u001b[43m \u001b[49m\u001b[43mcmap\u001b[49m\u001b[43m,\u001b[49m\u001b[43m \u001b[49m\u001b[43mcenter\u001b[49m\u001b[43m,\u001b[49m\u001b[43m \u001b[49m\u001b[43mrobust\u001b[49m\u001b[43m,\u001b[49m\u001b[43m \u001b[49m\u001b[43mannot\u001b[49m\u001b[43m,\u001b[49m\u001b[43m \u001b[49m\u001b[43mfmt\u001b[49m\u001b[43m,\u001b[49m\n\u001b[32m    447\u001b[39m \u001b[43m                      \u001b[49m\u001b[43mannot_kws\u001b[49m\u001b[43m,\u001b[49m\u001b[43m \u001b[49m\u001b[43mcbar\u001b[49m\u001b[43m,\u001b[49m\u001b[43m \u001b[49m\u001b[43mcbar_kws\u001b[49m\u001b[43m,\u001b[49m\u001b[43m \u001b[49m\u001b[43mxticklabels\u001b[49m\u001b[43m,\u001b[49m\n\u001b[32m    448\u001b[39m \u001b[43m                      \u001b[49m\u001b[43myticklabels\u001b[49m\u001b[43m,\u001b[49m\u001b[43m \u001b[49m\u001b[43mmask\u001b[49m\u001b[43m)\u001b[49m\n\u001b[32m    450\u001b[39m \u001b[38;5;66;03m# Add the pcolormesh kwargs here\u001b[39;00m\n\u001b[32m    451\u001b[39m kwargs[\u001b[33m\"\u001b[39m\u001b[33mlinewidths\u001b[39m\u001b[33m\"\u001b[39m] = linewidths\n",
      "\u001b[36mFile \u001b[39m\u001b[32m~/miniconda3/envs/pytorch_env2/lib/python3.13/site-packages/seaborn/matrix.py:163\u001b[39m, in \u001b[36m_HeatMapper.__init__\u001b[39m\u001b[34m(self, data, vmin, vmax, cmap, center, robust, annot, fmt, annot_kws, cbar, cbar_kws, xticklabels, yticklabels, mask)\u001b[39m\n\u001b[32m    160\u001b[39m \u001b[38;5;28mself\u001b[39m.ylabel = ylabel \u001b[38;5;28;01mif\u001b[39;00m ylabel \u001b[38;5;129;01mis\u001b[39;00m \u001b[38;5;129;01mnot\u001b[39;00m \u001b[38;5;28;01mNone\u001b[39;00m \u001b[38;5;28;01melse\u001b[39;00m \u001b[33m\"\u001b[39m\u001b[33m\"\u001b[39m\n\u001b[32m    162\u001b[39m \u001b[38;5;66;03m# Determine good default values for the colormapping\u001b[39;00m\n\u001b[32m--> \u001b[39m\u001b[32m163\u001b[39m \u001b[38;5;28;43mself\u001b[39;49m\u001b[43m.\u001b[49m\u001b[43m_determine_cmap_params\u001b[49m\u001b[43m(\u001b[49m\u001b[43mplot_data\u001b[49m\u001b[43m,\u001b[49m\u001b[43m \u001b[49m\u001b[43mvmin\u001b[49m\u001b[43m,\u001b[49m\u001b[43m \u001b[49m\u001b[43mvmax\u001b[49m\u001b[43m,\u001b[49m\n\u001b[32m    164\u001b[39m \u001b[43m                            \u001b[49m\u001b[43mcmap\u001b[49m\u001b[43m,\u001b[49m\u001b[43m \u001b[49m\u001b[43mcenter\u001b[49m\u001b[43m,\u001b[49m\u001b[43m \u001b[49m\u001b[43mrobust\u001b[49m\u001b[43m)\u001b[49m\n\u001b[32m    166\u001b[39m \u001b[38;5;66;03m# Sort out the annotations\u001b[39;00m\n\u001b[32m    167\u001b[39m \u001b[38;5;28;01mif\u001b[39;00m annot \u001b[38;5;129;01mis\u001b[39;00m \u001b[38;5;28;01mNone\u001b[39;00m \u001b[38;5;129;01mor\u001b[39;00m annot \u001b[38;5;129;01mis\u001b[39;00m \u001b[38;5;28;01mFalse\u001b[39;00m:\n",
      "\u001b[36mFile \u001b[39m\u001b[32m~/miniconda3/envs/pytorch_env2/lib/python3.13/site-packages/seaborn/matrix.py:197\u001b[39m, in \u001b[36m_HeatMapper._determine_cmap_params\u001b[39m\u001b[34m(self, plot_data, vmin, vmax, cmap, center, robust)\u001b[39m\n\u001b[32m    194\u001b[39m \u001b[38;5;250m\u001b[39m\u001b[33;03m\"\"\"Use some heuristics to set good defaults for colorbar and range.\"\"\"\u001b[39;00m\n\u001b[32m    196\u001b[39m \u001b[38;5;66;03m# plot_data is a np.ma.array instance\u001b[39;00m\n\u001b[32m--> \u001b[39m\u001b[32m197\u001b[39m calc_data = \u001b[43mplot_data\u001b[49m\u001b[43m.\u001b[49m\u001b[43mastype\u001b[49m\u001b[43m(\u001b[49m\u001b[38;5;28;43mfloat\u001b[39;49m\u001b[43m)\u001b[49m.filled(np.nan)\n\u001b[32m    198\u001b[39m \u001b[38;5;28;01mif\u001b[39;00m vmin \u001b[38;5;129;01mis\u001b[39;00m \u001b[38;5;28;01mNone\u001b[39;00m:\n\u001b[32m    199\u001b[39m     \u001b[38;5;28;01mif\u001b[39;00m robust:\n",
      "\u001b[31mValueError\u001b[39m: could not convert string to float: '(4, 2)'"
     ]
    },
    {
     "data": {
      "text/plain": [
       "<Figure size 1000x800 with 0 Axes>"
      ]
     },
     "metadata": {},
     "output_type": "display_data"
    }
   ],
   "source": [
    "import pandas as pd\n",
    "import seaborn as sns\n",
    "\n",
    "import matplotlib.pyplot as plt\n",
    "\n",
    "\n",
    "\n",
    "# Convert processed_data_dict to a DataFrame\n",
    "data = []\n",
    "for key, value in processed_data_dict.items():\n",
    "    data.append({\n",
    "        'Teacher': str(key[0]),\n",
    "        'Student': str(key[1]),\n",
    "        'Best Mean': value\n",
    "    })\n",
    "\n",
    "df = pd.DataFrame(data)\n",
    "\n",
    "\n",
    "\n",
    "# # Create a pivot table for the heatmap\n",
    "# heatmap_data = df.pivot(\"Teacher\", \"Student\", \"Best Mean\")\n",
    "\n",
    "# Plot the heatmap\n",
    "plt.figure(figsize=(10, 8))\n",
    "sns.heatmap(df, annot=True, fmt=\".2e\", cmap=\"viridis\", cbar_kws={'label': 'Best Mean'})\n",
    "plt.title(\"Heatmap of Best Mean Values\")\n",
    "plt.xlabel(\"Student\")\n",
    "plt.ylabel(\"Teacher\")\n",
    "plt.show()"
   ]
  },
  {
   "cell_type": "code",
   "execution_count": 5,
   "metadata": {},
   "outputs": [
    {
     "name": "stdout",
     "output_type": "stream",
     "text": [
      "Experiment file experiment_data/d256_4e2a256s_4e2a288s_lr0.001_b2048_e100_trial0.pkl already exists. Loading data.\n",
      "0.00022366150551533792\n",
      "7.8954386711120605\n",
      "Experiment file experiment_data/d256_4e2a256s_8e4a288s_lr0.001_b2048_e100_trial0.pkl already exists. Loading data.\n",
      "0.0016672256699621357\n",
      "7.770959854125977\n",
      "Experiment file experiment_data/d256_4e2a256s_16e8a288s_lr0.001_b2048_e100_trial0.pkl already exists. Loading data.\n",
      "0.13490355014801025\n",
      "7.759546995162964\n",
      "Experiment file experiment_data/d256_4e2a256s_32e16a288s_lr0.001_b2048_e100_trial0.pkl already exists. Loading data.\n",
      "0.7141218185424805\n",
      "8.130845069885254\n",
      "Generating teacher model with 4 / 8 experts and 256 active neurons\n",
      "Training student model with 2 / 4 experts and 288 active neurons\n"
     ]
    },
    {
     "name": "stderr",
     "output_type": "stream",
     "text": [
      "  0%|                                                                                                                                  | 0/100 [00:00<?, ?it/s]"
     ]
    },
    {
     "name": "stdout",
     "output_type": "stream",
     "text": [
      "Generating train and test for epoch 0\n"
     ]
    },
    {
     "name": "stderr",
     "output_type": "stream",
     "text": [
      "  1%|█▏                                                                                                                        | 1/100 [00:02<03:24,  2.06s/it]"
     ]
    },
    {
     "name": "stdout",
     "output_type": "stream",
     "text": [
      "Epoch [1/100], Train Loss: 2.4137, Test Loss: 2.3969, Base Loss: 4.3399\n",
      "Generating train and test for epoch 1\n"
     ]
    },
    {
     "name": "stderr",
     "output_type": "stream",
     "text": [
      "  2%|██▍                                                                                                                       | 2/100 [00:04<03:22,  2.06s/it]"
     ]
    },
    {
     "name": "stdout",
     "output_type": "stream",
     "text": [
      "Epoch [2/100], Train Loss: 1.9145, Test Loss: 1.9138, Base Loss: 4.3337\n",
      "Generating train and test for epoch 2\n"
     ]
    },
    {
     "name": "stderr",
     "output_type": "stream",
     "text": [
      "  3%|███▋                                                                                                                      | 3/100 [00:06<03:20,  2.06s/it]"
     ]
    },
    {
     "name": "stdout",
     "output_type": "stream",
     "text": [
      "Epoch [3/100], Train Loss: 1.6730, Test Loss: 1.6653, Base Loss: 4.3477\n",
      "Generating train and test for epoch 3\n"
     ]
    },
    {
     "name": "stderr",
     "output_type": "stream",
     "text": [
      "  4%|████▉                                                                                                                     | 4/100 [00:08<03:20,  2.09s/it]"
     ]
    },
    {
     "name": "stdout",
     "output_type": "stream",
     "text": [
      "Epoch [4/100], Train Loss: 1.5238, Test Loss: 1.5230, Base Loss: 4.3564\n",
      "Generating train and test for epoch 4\n"
     ]
    },
    {
     "name": "stderr",
     "output_type": "stream",
     "text": [
      "  5%|██████                                                                                                                    | 5/100 [00:10<03:14,  2.05s/it]"
     ]
    },
    {
     "name": "stdout",
     "output_type": "stream",
     "text": [
      "Epoch [5/100], Train Loss: 1.4397, Test Loss: 1.4376, Base Loss: 4.3393\n",
      "Generating train and test for epoch 5\n"
     ]
    },
    {
     "name": "stderr",
     "output_type": "stream",
     "text": [
      "  6%|███████▎                                                                                                                  | 6/100 [00:12<03:15,  2.08s/it]"
     ]
    },
    {
     "name": "stdout",
     "output_type": "stream",
     "text": [
      "Epoch [6/100], Train Loss: 1.3700, Test Loss: 1.3698, Base Loss: 4.3407\n",
      "Generating train and test for epoch 6\n"
     ]
    },
    {
     "name": "stderr",
     "output_type": "stream",
     "text": [
      "  7%|████████▌                                                                                                                 | 7/100 [00:14<03:10,  2.05s/it]"
     ]
    },
    {
     "name": "stdout",
     "output_type": "stream",
     "text": [
      "Epoch [7/100], Train Loss: 1.3391, Test Loss: 1.3330, Base Loss: 4.3573\n",
      "Generating train and test for epoch 7\n"
     ]
    },
    {
     "name": "stderr",
     "output_type": "stream",
     "text": [
      "  8%|█████████▊                                                                                                                | 8/100 [00:16<03:11,  2.08s/it]"
     ]
    },
    {
     "name": "stdout",
     "output_type": "stream",
     "text": [
      "Epoch [8/100], Train Loss: 1.3000, Test Loss: 1.3020, Base Loss: 4.4076\n",
      "Generating train and test for epoch 8\n"
     ]
    },
    {
     "name": "stderr",
     "output_type": "stream",
     "text": [
      "  9%|██████████▉                                                                                                               | 9/100 [00:18<03:06,  2.05s/it]"
     ]
    },
    {
     "name": "stdout",
     "output_type": "stream",
     "text": [
      "Epoch [9/100], Train Loss: 1.2631, Test Loss: 1.2724, Base Loss: 4.3519\n",
      "Generating train and test for epoch 9\n"
     ]
    },
    {
     "name": "stderr",
     "output_type": "stream",
     "text": [
      " 10%|████████████                                                                                                             | 10/100 [00:20<03:06,  2.08s/it]"
     ]
    },
    {
     "name": "stdout",
     "output_type": "stream",
     "text": [
      "Epoch [10/100], Train Loss: 1.2218, Test Loss: 1.2288, Base Loss: 4.3521\n",
      "Generating train and test for epoch 10\n"
     ]
    },
    {
     "name": "stderr",
     "output_type": "stream",
     "text": [
      " 11%|█████████████▎                                                                                                           | 11/100 [00:22<03:01,  2.04s/it]"
     ]
    },
    {
     "name": "stdout",
     "output_type": "stream",
     "text": [
      "Epoch [11/100], Train Loss: 1.2173, Test Loss: 1.2008, Base Loss: 4.3271\n",
      "Generating train and test for epoch 11\n"
     ]
    },
    {
     "name": "stderr",
     "output_type": "stream",
     "text": [
      " 12%|██████████████▌                                                                                                          | 12/100 [00:24<03:02,  2.07s/it]"
     ]
    },
    {
     "name": "stdout",
     "output_type": "stream",
     "text": [
      "Epoch [12/100], Train Loss: 1.1769, Test Loss: 1.1897, Base Loss: 4.3856\n",
      "Generating train and test for epoch 12\n"
     ]
    },
    {
     "name": "stderr",
     "output_type": "stream",
     "text": [
      " 13%|███████████████▋                                                                                                         | 13/100 [00:26<02:57,  2.04s/it]"
     ]
    },
    {
     "name": "stdout",
     "output_type": "stream",
     "text": [
      "Epoch [13/100], Train Loss: 1.1598, Test Loss: 1.1534, Base Loss: 4.3596\n",
      "Generating train and test for epoch 13\n"
     ]
    },
    {
     "name": "stderr",
     "output_type": "stream",
     "text": [
      " 14%|████████████████▉                                                                                                        | 14/100 [00:28<02:58,  2.08s/it]"
     ]
    },
    {
     "name": "stdout",
     "output_type": "stream",
     "text": [
      "Epoch [14/100], Train Loss: 1.1218, Test Loss: 1.1322, Base Loss: 4.3262\n",
      "Generating train and test for epoch 14\n"
     ]
    },
    {
     "name": "stderr",
     "output_type": "stream",
     "text": [
      " 15%|██████████████████▏                                                                                                      | 15/100 [00:30<02:53,  2.04s/it]"
     ]
    },
    {
     "name": "stdout",
     "output_type": "stream",
     "text": [
      "Epoch [15/100], Train Loss: 1.1036, Test Loss: 1.0947, Base Loss: 4.3176\n",
      "Generating train and test for epoch 15\n"
     ]
    },
    {
     "name": "stderr",
     "output_type": "stream",
     "text": [
      " 16%|███████████████████▎                                                                                                     | 16/100 [00:33<02:54,  2.08s/it]"
     ]
    },
    {
     "name": "stdout",
     "output_type": "stream",
     "text": [
      "Epoch [16/100], Train Loss: 1.0748, Test Loss: 1.0677, Base Loss: 4.3394\n",
      "Generating train and test for epoch 16\n"
     ]
    },
    {
     "name": "stderr",
     "output_type": "stream",
     "text": [
      " 17%|████████████████████▌                                                                                                    | 17/100 [00:35<02:49,  2.05s/it]"
     ]
    },
    {
     "name": "stdout",
     "output_type": "stream",
     "text": [
      "Epoch [17/100], Train Loss: 1.0523, Test Loss: 1.0632, Base Loss: 4.3673\n",
      "Generating train and test for epoch 17\n"
     ]
    },
    {
     "name": "stderr",
     "output_type": "stream",
     "text": [
      " 18%|█████████████████████▊                                                                                                   | 18/100 [00:37<02:49,  2.07s/it]"
     ]
    },
    {
     "name": "stdout",
     "output_type": "stream",
     "text": [
      "Epoch [18/100], Train Loss: 1.0395, Test Loss: 1.0476, Base Loss: 4.3662\n",
      "Generating train and test for epoch 18\n"
     ]
    },
    {
     "name": "stderr",
     "output_type": "stream",
     "text": [
      " 19%|██████████████████████▉                                                                                                  | 19/100 [00:39<02:45,  2.04s/it]"
     ]
    },
    {
     "name": "stdout",
     "output_type": "stream",
     "text": [
      "Epoch [19/100], Train Loss: 1.0321, Test Loss: 1.0135, Base Loss: 4.3334\n",
      "Generating train and test for epoch 19\n"
     ]
    },
    {
     "name": "stderr",
     "output_type": "stream",
     "text": [
      " 20%|████████████████████████▏                                                                                                | 20/100 [00:41<02:45,  2.07s/it]"
     ]
    },
    {
     "name": "stdout",
     "output_type": "stream",
     "text": [
      "Epoch [20/100], Train Loss: 0.9991, Test Loss: 1.0031, Base Loss: 4.3389\n",
      "Generating train and test for epoch 20\n"
     ]
    },
    {
     "name": "stderr",
     "output_type": "stream",
     "text": [
      " 21%|█████████████████████████▍                                                                                               | 21/100 [00:43<02:41,  2.04s/it]"
     ]
    },
    {
     "name": "stdout",
     "output_type": "stream",
     "text": [
      "Epoch [21/100], Train Loss: 1.0067, Test Loss: 0.9863, Base Loss: 4.3513\n",
      "Generating train and test for epoch 21\n"
     ]
    },
    {
     "name": "stderr",
     "output_type": "stream",
     "text": [
      " 22%|██████████████████████████▌                                                                                              | 22/100 [00:45<02:41,  2.07s/it]"
     ]
    },
    {
     "name": "stdout",
     "output_type": "stream",
     "text": [
      "Epoch [22/100], Train Loss: 0.9810, Test Loss: 0.9753, Base Loss: 4.3786\n",
      "Generating train and test for epoch 22\n"
     ]
    },
    {
     "name": "stderr",
     "output_type": "stream",
     "text": [
      " 23%|███████████████████████████▊                                                                                             | 23/100 [00:47<02:37,  2.04s/it]"
     ]
    },
    {
     "name": "stdout",
     "output_type": "stream",
     "text": [
      "Epoch [23/100], Train Loss: 0.9639, Test Loss: 0.9677, Base Loss: 4.3543\n",
      "Generating train and test for epoch 23\n"
     ]
    },
    {
     "name": "stderr",
     "output_type": "stream",
     "text": [
      " 24%|█████████████████████████████                                                                                            | 24/100 [00:49<02:37,  2.07s/it]"
     ]
    },
    {
     "name": "stdout",
     "output_type": "stream",
     "text": [
      "Epoch [24/100], Train Loss: 0.9749, Test Loss: 0.9688, Base Loss: 4.3528\n",
      "Generating train and test for epoch 24\n"
     ]
    },
    {
     "name": "stderr",
     "output_type": "stream",
     "text": [
      " 25%|██████████████████████████████▎                                                                                          | 25/100 [00:51<02:33,  2.04s/it]"
     ]
    },
    {
     "name": "stdout",
     "output_type": "stream",
     "text": [
      "Epoch [25/100], Train Loss: 0.9643, Test Loss: 0.9437, Base Loss: 4.3491\n",
      "Generating train and test for epoch 25\n"
     ]
    },
    {
     "name": "stderr",
     "output_type": "stream",
     "text": [
      " 26%|███████████████████████████████▍                                                                                         | 26/100 [00:53<02:33,  2.07s/it]"
     ]
    },
    {
     "name": "stdout",
     "output_type": "stream",
     "text": [
      "Epoch [26/100], Train Loss: 0.9357, Test Loss: 0.9378, Base Loss: 4.3598\n",
      "Generating train and test for epoch 26\n"
     ]
    },
    {
     "name": "stderr",
     "output_type": "stream",
     "text": [
      " 27%|████████████████████████████████▋                                                                                        | 27/100 [00:55<02:29,  2.04s/it]"
     ]
    },
    {
     "name": "stdout",
     "output_type": "stream",
     "text": [
      "Epoch [27/100], Train Loss: 0.9469, Test Loss: 0.9278, Base Loss: 4.3616\n",
      "Generating train and test for epoch 27\n"
     ]
    },
    {
     "name": "stderr",
     "output_type": "stream",
     "text": [
      " 28%|█████████████████████████████████▉                                                                                       | 28/100 [00:57<02:29,  2.07s/it]"
     ]
    },
    {
     "name": "stdout",
     "output_type": "stream",
     "text": [
      "Epoch [28/100], Train Loss: 0.9236, Test Loss: 0.9300, Base Loss: 4.3346\n",
      "Generating train and test for epoch 28\n"
     ]
    },
    {
     "name": "stderr",
     "output_type": "stream",
     "text": [
      " 29%|███████████████████████████████████                                                                                      | 29/100 [00:59<02:24,  2.04s/it]"
     ]
    },
    {
     "name": "stdout",
     "output_type": "stream",
     "text": [
      "Epoch [29/100], Train Loss: 0.9191, Test Loss: 0.9182, Base Loss: 4.3868\n",
      "Generating train and test for epoch 29\n"
     ]
    },
    {
     "name": "stderr",
     "output_type": "stream",
     "text": [
      " 30%|████████████████████████████████████▎                                                                                    | 30/100 [01:01<02:25,  2.07s/it]"
     ]
    },
    {
     "name": "stdout",
     "output_type": "stream",
     "text": [
      "Epoch [30/100], Train Loss: 0.9271, Test Loss: 0.9114, Base Loss: 4.3543\n",
      "Generating train and test for epoch 30\n"
     ]
    },
    {
     "name": "stderr",
     "output_type": "stream",
     "text": [
      " 31%|█████████████████████████████████████▌                                                                                   | 31/100 [01:03<02:22,  2.07s/it]"
     ]
    },
    {
     "name": "stdout",
     "output_type": "stream",
     "text": [
      "Epoch [31/100], Train Loss: 0.9030, Test Loss: 0.9133, Base Loss: 4.3502\n",
      "Generating train and test for epoch 31\n"
     ]
    },
    {
     "name": "stderr",
     "output_type": "stream",
     "text": [
      " 32%|██████████████████████████████████████▋                                                                                  | 32/100 [01:05<02:20,  2.06s/it]"
     ]
    },
    {
     "name": "stdout",
     "output_type": "stream",
     "text": [
      "Epoch [32/100], Train Loss: 0.8887, Test Loss: 0.9040, Base Loss: 4.3600\n",
      "Generating train and test for epoch 32\n"
     ]
    },
    {
     "name": "stderr",
     "output_type": "stream",
     "text": [
      " 33%|███████████████████████████████████████▉                                                                                 | 33/100 [01:08<02:18,  2.06s/it]"
     ]
    },
    {
     "name": "stdout",
     "output_type": "stream",
     "text": [
      "Epoch [33/100], Train Loss: 0.8948, Test Loss: 0.9020, Base Loss: 4.3672\n",
      "Generating train and test for epoch 33\n"
     ]
    },
    {
     "name": "stderr",
     "output_type": "stream",
     "text": [
      " 34%|█████████████████████████████████████████▏                                                                               | 34/100 [01:10<02:16,  2.06s/it]"
     ]
    },
    {
     "name": "stdout",
     "output_type": "stream",
     "text": [
      "Epoch [34/100], Train Loss: 0.9054, Test Loss: 0.8839, Base Loss: 4.3245\n",
      "Generating train and test for epoch 34\n"
     ]
    },
    {
     "name": "stderr",
     "output_type": "stream",
     "text": [
      " 35%|██████████████████████████████████████████▎                                                                              | 35/100 [01:12<02:13,  2.06s/it]"
     ]
    },
    {
     "name": "stdout",
     "output_type": "stream",
     "text": [
      "Epoch [35/100], Train Loss: 0.8816, Test Loss: 0.8997, Base Loss: 4.3517\n",
      "Generating train and test for epoch 35\n"
     ]
    },
    {
     "name": "stderr",
     "output_type": "stream",
     "text": [
      " 36%|███████████████████████████████████████████▌                                                                             | 36/100 [01:14<02:11,  2.06s/it]"
     ]
    },
    {
     "name": "stdout",
     "output_type": "stream",
     "text": [
      "Epoch [36/100], Train Loss: 0.8838, Test Loss: 0.8795, Base Loss: 4.3291\n",
      "Generating train and test for epoch 36\n"
     ]
    },
    {
     "name": "stderr",
     "output_type": "stream",
     "text": [
      " 37%|████████████████████████████████████████████▊                                                                            | 37/100 [01:16<02:09,  2.06s/it]"
     ]
    },
    {
     "name": "stdout",
     "output_type": "stream",
     "text": [
      "Epoch [37/100], Train Loss: 0.9040, Test Loss: 0.8745, Base Loss: 4.3195\n",
      "Generating train and test for epoch 37\n"
     ]
    },
    {
     "name": "stderr",
     "output_type": "stream",
     "text": [
      " 38%|█████████████████████████████████████████████▉                                                                           | 38/100 [01:18<02:09,  2.08s/it]"
     ]
    },
    {
     "name": "stdout",
     "output_type": "stream",
     "text": [
      "Epoch [38/100], Train Loss: 0.8683, Test Loss: 0.8886, Base Loss: 4.3811\n",
      "Generating train and test for epoch 38\n"
     ]
    },
    {
     "name": "stderr",
     "output_type": "stream",
     "text": [
      " 39%|███████████████████████████████████████████████▏                                                                         | 39/100 [01:20<02:05,  2.06s/it]"
     ]
    },
    {
     "name": "stdout",
     "output_type": "stream",
     "text": [
      "Epoch [39/100], Train Loss: 0.8864, Test Loss: 0.8905, Base Loss: 4.3461\n",
      "Generating train and test for epoch 39\n"
     ]
    },
    {
     "name": "stderr",
     "output_type": "stream",
     "text": [
      " 40%|████████████████████████████████████████████████▍                                                                        | 40/100 [01:22<02:04,  2.08s/it]"
     ]
    },
    {
     "name": "stdout",
     "output_type": "stream",
     "text": [
      "Epoch [40/100], Train Loss: 0.8896, Test Loss: 0.8789, Base Loss: 4.3543\n",
      "Generating train and test for epoch 40\n"
     ]
    },
    {
     "name": "stderr",
     "output_type": "stream",
     "text": [
      " 41%|█████████████████████████████████████████████████▌                                                                       | 41/100 [01:24<02:00,  2.05s/it]"
     ]
    },
    {
     "name": "stdout",
     "output_type": "stream",
     "text": [
      "Epoch [41/100], Train Loss: 0.8758, Test Loss: 0.8741, Base Loss: 4.3421\n",
      "Generating train and test for epoch 41\n"
     ]
    },
    {
     "name": "stderr",
     "output_type": "stream",
     "text": [
      " 42%|██████████████████████████████████████████████████▊                                                                      | 42/100 [01:26<02:00,  2.08s/it]"
     ]
    },
    {
     "name": "stdout",
     "output_type": "stream",
     "text": [
      "Epoch [42/100], Train Loss: 0.8635, Test Loss: 0.8751, Base Loss: 4.3463\n",
      "Generating train and test for epoch 42\n"
     ]
    },
    {
     "name": "stderr",
     "output_type": "stream",
     "text": [
      " 43%|████████████████████████████████████████████████████                                                                     | 43/100 [01:28<01:56,  2.05s/it]"
     ]
    },
    {
     "name": "stdout",
     "output_type": "stream",
     "text": [
      "Epoch [43/100], Train Loss: 0.8848, Test Loss: 0.8765, Base Loss: 4.3552\n",
      "Generating train and test for epoch 43\n"
     ]
    },
    {
     "name": "stderr",
     "output_type": "stream",
     "text": [
      " 44%|█████████████████████████████████████████████████████▏                                                                   | 44/100 [01:30<01:56,  2.07s/it]"
     ]
    },
    {
     "name": "stdout",
     "output_type": "stream",
     "text": [
      "Epoch [44/100], Train Loss: 0.8721, Test Loss: 0.8768, Base Loss: 4.3333\n",
      "Generating train and test for epoch 44\n"
     ]
    },
    {
     "name": "stderr",
     "output_type": "stream",
     "text": [
      " 45%|██████████████████████████████████████████████████████▍                                                                  | 45/100 [01:32<01:52,  2.05s/it]"
     ]
    },
    {
     "name": "stdout",
     "output_type": "stream",
     "text": [
      "Epoch [45/100], Train Loss: 0.8697, Test Loss: 0.8793, Base Loss: 4.3350\n",
      "Generating train and test for epoch 45\n"
     ]
    },
    {
     "name": "stderr",
     "output_type": "stream",
     "text": [
      " 46%|███████████████████████████████████████████████████████▋                                                                 | 46/100 [01:34<01:51,  2.07s/it]"
     ]
    },
    {
     "name": "stdout",
     "output_type": "stream",
     "text": [
      "Epoch [46/100], Train Loss: 0.8805, Test Loss: 0.8809, Base Loss: 4.3503\n",
      "Generating train and test for epoch 46\n"
     ]
    },
    {
     "name": "stderr",
     "output_type": "stream",
     "text": [
      " 47%|████████████████████████████████████████████████████████▊                                                                | 47/100 [01:36<01:48,  2.04s/it]"
     ]
    },
    {
     "name": "stdout",
     "output_type": "stream",
     "text": [
      "Epoch [47/100], Train Loss: 0.8866, Test Loss: 0.8623, Base Loss: 4.3705\n",
      "Generating train and test for epoch 47\n"
     ]
    },
    {
     "name": "stderr",
     "output_type": "stream",
     "text": [
      " 48%|██████████████████████████████████████████████████████████                                                               | 48/100 [01:38<01:47,  2.07s/it]"
     ]
    },
    {
     "name": "stdout",
     "output_type": "stream",
     "text": [
      "Epoch [48/100], Train Loss: 0.8820, Test Loss: 0.8769, Base Loss: 4.3515\n",
      "Generating train and test for epoch 48\n"
     ]
    },
    {
     "name": "stderr",
     "output_type": "stream",
     "text": [
      " 49%|███████████████████████████████████████████████████████████▎                                                             | 49/100 [01:40<01:44,  2.04s/it]"
     ]
    },
    {
     "name": "stdout",
     "output_type": "stream",
     "text": [
      "Epoch [49/100], Train Loss: 0.8618, Test Loss: 0.8569, Base Loss: 4.3418\n",
      "Generating train and test for epoch 49\n"
     ]
    },
    {
     "name": "stderr",
     "output_type": "stream",
     "text": [
      " 50%|████████████████████████████████████████████████████████████▌                                                            | 50/100 [01:43<01:43,  2.07s/it]"
     ]
    },
    {
     "name": "stdout",
     "output_type": "stream",
     "text": [
      "Epoch [50/100], Train Loss: 0.8723, Test Loss: 0.8754, Base Loss: 4.3634\n",
      "Generating train and test for epoch 50\n"
     ]
    },
    {
     "name": "stderr",
     "output_type": "stream",
     "text": [
      " 51%|█████████████████████████████████████████████████████████████▋                                                           | 51/100 [01:45<01:39,  2.04s/it]"
     ]
    },
    {
     "name": "stdout",
     "output_type": "stream",
     "text": [
      "Epoch [51/100], Train Loss: 0.8677, Test Loss: 0.8616, Base Loss: 4.3645\n",
      "Generating train and test for epoch 51\n"
     ]
    },
    {
     "name": "stderr",
     "output_type": "stream",
     "text": [
      " 52%|██████████████████████████████████████████████████████████████▉                                                          | 52/100 [01:47<01:39,  2.07s/it]"
     ]
    },
    {
     "name": "stdout",
     "output_type": "stream",
     "text": [
      "Epoch [52/100], Train Loss: 0.8727, Test Loss: 0.8717, Base Loss: 4.3462\n",
      "Generating train and test for epoch 52\n"
     ]
    },
    {
     "name": "stderr",
     "output_type": "stream",
     "text": [
      " 53%|████████████████████████████████████████████████████████████████▏                                                        | 53/100 [01:49<01:35,  2.04s/it]"
     ]
    },
    {
     "name": "stdout",
     "output_type": "stream",
     "text": [
      "Epoch [53/100], Train Loss: 0.8751, Test Loss: 0.8659, Base Loss: 4.3593\n",
      "Generating train and test for epoch 53\n"
     ]
    },
    {
     "name": "stderr",
     "output_type": "stream",
     "text": [
      " 54%|█████████████████████████████████████████████████████████████████▎                                                       | 54/100 [01:51<01:35,  2.07s/it]"
     ]
    },
    {
     "name": "stdout",
     "output_type": "stream",
     "text": [
      "Epoch [54/100], Train Loss: 0.8711, Test Loss: 0.8653, Base Loss: 4.3676\n",
      "Generating train and test for epoch 54\n"
     ]
    },
    {
     "name": "stderr",
     "output_type": "stream",
     "text": [
      " 55%|██████████████████████████████████████████████████████████████████▌                                                      | 55/100 [01:53<01:31,  2.04s/it]"
     ]
    },
    {
     "name": "stdout",
     "output_type": "stream",
     "text": [
      "Epoch [55/100], Train Loss: 0.8699, Test Loss: 0.8555, Base Loss: 4.3449\n",
      "Generating train and test for epoch 55\n"
     ]
    },
    {
     "name": "stderr",
     "output_type": "stream",
     "text": [
      " 56%|███████████████████████████████████████████████████████████████████▊                                                     | 56/100 [01:55<01:31,  2.07s/it]"
     ]
    },
    {
     "name": "stdout",
     "output_type": "stream",
     "text": [
      "Epoch [56/100], Train Loss: 0.8513, Test Loss: 0.8719, Base Loss: 4.3391\n",
      "Generating train and test for epoch 56\n"
     ]
    },
    {
     "name": "stderr",
     "output_type": "stream",
     "text": [
      " 57%|████████████████████████████████████████████████████████████████████▉                                                    | 57/100 [01:57<01:27,  2.04s/it]"
     ]
    },
    {
     "name": "stdout",
     "output_type": "stream",
     "text": [
      "Epoch [57/100], Train Loss: 0.8466, Test Loss: 0.8652, Base Loss: 4.3342\n",
      "Generating train and test for epoch 57\n"
     ]
    },
    {
     "name": "stderr",
     "output_type": "stream",
     "text": [
      " 58%|██████████████████████████████████████████████████████████████████████▏                                                  | 58/100 [01:59<01:26,  2.07s/it]"
     ]
    },
    {
     "name": "stdout",
     "output_type": "stream",
     "text": [
      "Epoch [58/100], Train Loss: 0.8803, Test Loss: 0.8696, Base Loss: 4.3553\n",
      "Generating train and test for epoch 58\n"
     ]
    },
    {
     "name": "stderr",
     "output_type": "stream",
     "text": [
      " 59%|███████████████████████████████████████████████████████████████████████▍                                                 | 59/100 [02:01<01:23,  2.04s/it]"
     ]
    },
    {
     "name": "stdout",
     "output_type": "stream",
     "text": [
      "Epoch [59/100], Train Loss: 0.8558, Test Loss: 0.8699, Base Loss: 4.3473\n",
      "Generating train and test for epoch 59\n"
     ]
    },
    {
     "name": "stderr",
     "output_type": "stream",
     "text": [
      " 60%|████████████████████████████████████████████████████████████████████████▌                                                | 60/100 [02:03<01:22,  2.07s/it]"
     ]
    },
    {
     "name": "stdout",
     "output_type": "stream",
     "text": [
      "Epoch [60/100], Train Loss: 0.8449, Test Loss: 0.8716, Base Loss: 4.3643\n",
      "Generating train and test for epoch 60\n"
     ]
    },
    {
     "name": "stderr",
     "output_type": "stream",
     "text": [
      " 61%|█████████████████████████████████████████████████████████████████████████▊                                               | 61/100 [02:05<01:19,  2.04s/it]"
     ]
    },
    {
     "name": "stdout",
     "output_type": "stream",
     "text": [
      "Epoch [61/100], Train Loss: 0.8666, Test Loss: 0.8600, Base Loss: 4.3472\n",
      "Generating train and test for epoch 61\n"
     ]
    },
    {
     "name": "stderr",
     "output_type": "stream",
     "text": [
      " 62%|███████████████████████████████████████████████████████████████████████████                                              | 62/100 [02:07<01:18,  2.07s/it]"
     ]
    },
    {
     "name": "stdout",
     "output_type": "stream",
     "text": [
      "Epoch [62/100], Train Loss: 0.8548, Test Loss: 0.8509, Base Loss: 4.3272\n",
      "Generating train and test for epoch 62\n"
     ]
    },
    {
     "name": "stderr",
     "output_type": "stream",
     "text": [
      " 63%|████████████████████████████████████████████████████████████████████████████▏                                            | 63/100 [02:09<01:15,  2.04s/it]"
     ]
    },
    {
     "name": "stdout",
     "output_type": "stream",
     "text": [
      "Epoch [63/100], Train Loss: 0.8810, Test Loss: 0.8506, Base Loss: 4.3203\n",
      "Generating train and test for epoch 63\n"
     ]
    },
    {
     "name": "stderr",
     "output_type": "stream",
     "text": [
      " 64%|█████████████████████████████████████████████████████████████████████████████▍                                           | 64/100 [02:11<01:14,  2.07s/it]"
     ]
    },
    {
     "name": "stdout",
     "output_type": "stream",
     "text": [
      "Epoch [64/100], Train Loss: 0.8683, Test Loss: 0.8633, Base Loss: 4.3537\n",
      "Generating train and test for epoch 64\n"
     ]
    },
    {
     "name": "stderr",
     "output_type": "stream",
     "text": [
      " 65%|██████████████████████████████████████████████████████████████████████████████▋                                          | 65/100 [02:13<01:11,  2.04s/it]"
     ]
    },
    {
     "name": "stdout",
     "output_type": "stream",
     "text": [
      "Epoch [65/100], Train Loss: 0.8804, Test Loss: 0.8651, Base Loss: 4.3510\n",
      "Generating train and test for epoch 65\n"
     ]
    },
    {
     "name": "stderr",
     "output_type": "stream",
     "text": [
      " 66%|███████████████████████████████████████████████████████████████████████████████▊                                         | 66/100 [02:15<01:10,  2.07s/it]"
     ]
    },
    {
     "name": "stdout",
     "output_type": "stream",
     "text": [
      "Epoch [66/100], Train Loss: 0.8491, Test Loss: 0.8617, Base Loss: 4.3479\n",
      "Generating train and test for epoch 66\n"
     ]
    },
    {
     "name": "stderr",
     "output_type": "stream",
     "text": [
      " 67%|█████████████████████████████████████████████████████████████████████████████████                                        | 67/100 [02:17<01:07,  2.04s/it]"
     ]
    },
    {
     "name": "stdout",
     "output_type": "stream",
     "text": [
      "Epoch [67/100], Train Loss: 0.8342, Test Loss: 0.8543, Base Loss: 4.3429\n",
      "Generating train and test for epoch 67\n"
     ]
    },
    {
     "name": "stderr",
     "output_type": "stream",
     "text": [
      " 68%|██████████████████████████████████████████████████████████████████████████████████▎                                      | 68/100 [02:20<01:06,  2.07s/it]"
     ]
    },
    {
     "name": "stdout",
     "output_type": "stream",
     "text": [
      "Epoch [68/100], Train Loss: 0.8482, Test Loss: 0.8672, Base Loss: 4.3550\n",
      "Generating train and test for epoch 68\n"
     ]
    },
    {
     "name": "stderr",
     "output_type": "stream",
     "text": [
      " 69%|███████████████████████████████████████████████████████████████████████████████████▍                                     | 69/100 [02:22<01:03,  2.04s/it]"
     ]
    },
    {
     "name": "stdout",
     "output_type": "stream",
     "text": [
      "Epoch [69/100], Train Loss: 0.8481, Test Loss: 0.8575, Base Loss: 4.3403\n",
      "Generating train and test for epoch 69\n"
     ]
    },
    {
     "name": "stderr",
     "output_type": "stream",
     "text": [
      " 70%|████████████████████████████████████████████████████████████████████████████████████▋                                    | 70/100 [02:24<01:02,  2.07s/it]"
     ]
    },
    {
     "name": "stdout",
     "output_type": "stream",
     "text": [
      "Epoch [70/100], Train Loss: 0.8722, Test Loss: 0.8454, Base Loss: 4.3188\n",
      "Generating train and test for epoch 70\n"
     ]
    },
    {
     "name": "stderr",
     "output_type": "stream",
     "text": [
      " 71%|█████████████████████████████████████████████████████████████████████████████████████▉                                   | 71/100 [02:26<00:59,  2.04s/it]"
     ]
    },
    {
     "name": "stdout",
     "output_type": "stream",
     "text": [
      "Epoch [71/100], Train Loss: 0.8492, Test Loss: 0.8527, Base Loss: 4.3307\n",
      "Generating train and test for epoch 71\n"
     ]
    },
    {
     "name": "stderr",
     "output_type": "stream",
     "text": [
      " 72%|███████████████████████████████████████████████████████████████████████████████████████                                  | 72/100 [02:28<00:57,  2.07s/it]"
     ]
    },
    {
     "name": "stdout",
     "output_type": "stream",
     "text": [
      "Epoch [72/100], Train Loss: 0.8511, Test Loss: 0.8473, Base Loss: 4.3325\n",
      "Generating train and test for epoch 72\n"
     ]
    },
    {
     "name": "stderr",
     "output_type": "stream",
     "text": [
      " 73%|████████████████████████████████████████████████████████████████████████████████████████▎                                | 73/100 [02:30<00:55,  2.04s/it]"
     ]
    },
    {
     "name": "stdout",
     "output_type": "stream",
     "text": [
      "Epoch [73/100], Train Loss: 0.8298, Test Loss: 0.8572, Base Loss: 4.3510\n",
      "Generating train and test for epoch 73\n"
     ]
    },
    {
     "name": "stderr",
     "output_type": "stream",
     "text": [
      " 74%|█████████████████████████████████████████████████████████████████████████████████████████▌                               | 74/100 [02:32<00:53,  2.07s/it]"
     ]
    },
    {
     "name": "stdout",
     "output_type": "stream",
     "text": [
      "Epoch [74/100], Train Loss: 0.8362, Test Loss: 0.8481, Base Loss: 4.3439\n",
      "Generating train and test for epoch 74\n"
     ]
    },
    {
     "name": "stderr",
     "output_type": "stream",
     "text": [
      " 75%|██████████████████████████████████████████████████████████████████████████████████████████▊                              | 75/100 [02:34<00:50,  2.04s/it]"
     ]
    },
    {
     "name": "stdout",
     "output_type": "stream",
     "text": [
      "Epoch [75/100], Train Loss: 0.8444, Test Loss: 0.8338, Base Loss: 4.3404\n",
      "Generating train and test for epoch 75\n"
     ]
    },
    {
     "name": "stderr",
     "output_type": "stream",
     "text": [
      " 76%|███████████████████████████████████████████████████████████████████████████████████████████▉                             | 76/100 [02:36<00:49,  2.07s/it]"
     ]
    },
    {
     "name": "stdout",
     "output_type": "stream",
     "text": [
      "Epoch [76/100], Train Loss: 0.8458, Test Loss: 0.8559, Base Loss: 4.3414\n",
      "Generating train and test for epoch 76\n"
     ]
    },
    {
     "name": "stderr",
     "output_type": "stream",
     "text": [
      " 77%|█████████████████████████████████████████████████████████████████████████████████████████████▏                           | 77/100 [02:38<00:46,  2.04s/it]"
     ]
    },
    {
     "name": "stdout",
     "output_type": "stream",
     "text": [
      "Epoch [77/100], Train Loss: 0.8539, Test Loss: 0.8543, Base Loss: 4.3671\n",
      "Generating train and test for epoch 77\n"
     ]
    },
    {
     "name": "stderr",
     "output_type": "stream",
     "text": [
      " 78%|██████████████████████████████████████████████████████████████████████████████████████████████▍                          | 78/100 [02:40<00:45,  2.06s/it]"
     ]
    },
    {
     "name": "stdout",
     "output_type": "stream",
     "text": [
      "Epoch [78/100], Train Loss: 0.8502, Test Loss: 0.8472, Base Loss: 4.3498\n",
      "Generating train and test for epoch 78\n"
     ]
    },
    {
     "name": "stderr",
     "output_type": "stream",
     "text": [
      " 79%|███████████████████████████████████████████████████████████████████████████████████████████████▌                         | 79/100 [02:42<00:42,  2.04s/it]"
     ]
    },
    {
     "name": "stdout",
     "output_type": "stream",
     "text": [
      "Epoch [79/100], Train Loss: 0.8441, Test Loss: 0.8563, Base Loss: 4.3879\n",
      "Generating train and test for epoch 79\n"
     ]
    },
    {
     "name": "stderr",
     "output_type": "stream",
     "text": [
      " 80%|████████████████████████████████████████████████████████████████████████████████████████████████▊                        | 80/100 [02:44<00:41,  2.06s/it]"
     ]
    },
    {
     "name": "stdout",
     "output_type": "stream",
     "text": [
      "Epoch [80/100], Train Loss: 0.8468, Test Loss: 0.8390, Base Loss: 4.3708\n",
      "Generating train and test for epoch 80\n"
     ]
    },
    {
     "name": "stderr",
     "output_type": "stream",
     "text": [
      " 81%|██████████████████████████████████████████████████████████████████████████████████████████████████                       | 81/100 [02:46<00:38,  2.04s/it]"
     ]
    },
    {
     "name": "stdout",
     "output_type": "stream",
     "text": [
      "Epoch [81/100], Train Loss: 0.8412, Test Loss: 0.8459, Base Loss: 4.3301\n",
      "Generating train and test for epoch 81\n"
     ]
    },
    {
     "name": "stderr",
     "output_type": "stream",
     "text": [
      " 82%|███████████████████████████████████████████████████████████████████████████████████████████████████▏                     | 82/100 [02:48<00:37,  2.06s/it]"
     ]
    },
    {
     "name": "stdout",
     "output_type": "stream",
     "text": [
      "Epoch [82/100], Train Loss: 0.8579, Test Loss: 0.8377, Base Loss: 4.3291\n",
      "Generating train and test for epoch 82\n"
     ]
    },
    {
     "name": "stderr",
     "output_type": "stream",
     "text": [
      " 83%|████████████████████████████████████████████████████████████████████████████████████████████████████▍                    | 83/100 [02:50<00:34,  2.04s/it]"
     ]
    },
    {
     "name": "stdout",
     "output_type": "stream",
     "text": [
      "Epoch [83/100], Train Loss: 0.8369, Test Loss: 0.8503, Base Loss: 4.3623\n",
      "Generating train and test for epoch 83\n"
     ]
    },
    {
     "name": "stderr",
     "output_type": "stream",
     "text": [
      " 84%|█████████████████████████████████████████████████████████████████████████████████████████████████████▋                   | 84/100 [02:52<00:33,  2.06s/it]"
     ]
    },
    {
     "name": "stdout",
     "output_type": "stream",
     "text": [
      "Epoch [84/100], Train Loss: 0.8396, Test Loss: 0.8471, Base Loss: 4.3586\n",
      "Generating train and test for epoch 84\n"
     ]
    },
    {
     "name": "stderr",
     "output_type": "stream",
     "text": [
      " 85%|██████████████████████████████████████████████████████████████████████████████████████████████████████▊                  | 85/100 [02:54<00:30,  2.04s/it]"
     ]
    },
    {
     "name": "stdout",
     "output_type": "stream",
     "text": [
      "Epoch [85/100], Train Loss: 0.8599, Test Loss: 0.8402, Base Loss: 4.3182\n",
      "Generating train and test for epoch 85\n"
     ]
    },
    {
     "name": "stderr",
     "output_type": "stream",
     "text": [
      " 86%|████████████████████████████████████████████████████████████████████████████████████████████████████████                 | 86/100 [02:56<00:28,  2.06s/it]"
     ]
    },
    {
     "name": "stdout",
     "output_type": "stream",
     "text": [
      "Epoch [86/100], Train Loss: 0.8613, Test Loss: 0.8429, Base Loss: 4.3380\n",
      "Generating train and test for epoch 86\n"
     ]
    },
    {
     "name": "stderr",
     "output_type": "stream",
     "text": [
      " 87%|█████████████████████████████████████████████████████████████████████████████████████████████████████████▎               | 87/100 [02:58<00:26,  2.03s/it]"
     ]
    },
    {
     "name": "stdout",
     "output_type": "stream",
     "text": [
      "Epoch [87/100], Train Loss: 0.8530, Test Loss: 0.8373, Base Loss: 4.3474\n",
      "Generating train and test for epoch 87\n"
     ]
    },
    {
     "name": "stderr",
     "output_type": "stream",
     "text": [
      " 88%|██████████████████████████████████████████████████████████████████████████████████████████████████████████▍              | 88/100 [03:01<00:24,  2.06s/it]"
     ]
    },
    {
     "name": "stdout",
     "output_type": "stream",
     "text": [
      "Epoch [88/100], Train Loss: 0.8464, Test Loss: 0.8461, Base Loss: 4.3328\n",
      "Generating train and test for epoch 88\n"
     ]
    },
    {
     "name": "stderr",
     "output_type": "stream",
     "text": [
      " 89%|███████████████████████████████████████████████████████████████████████████████████████████████████████████▋             | 89/100 [03:03<00:22,  2.03s/it]"
     ]
    },
    {
     "name": "stdout",
     "output_type": "stream",
     "text": [
      "Epoch [89/100], Train Loss: 0.8382, Test Loss: 0.8498, Base Loss: 4.3657\n",
      "Generating train and test for epoch 89\n"
     ]
    },
    {
     "name": "stderr",
     "output_type": "stream",
     "text": [
      " 90%|████████████████████████████████████████████████████████████████████████████████████████████████████████████▉            | 90/100 [03:05<00:20,  2.06s/it]"
     ]
    },
    {
     "name": "stdout",
     "output_type": "stream",
     "text": [
      "Epoch [90/100], Train Loss: 0.8428, Test Loss: 0.8515, Base Loss: 4.3583\n",
      "Generating train and test for epoch 90\n"
     ]
    },
    {
     "name": "stderr",
     "output_type": "stream",
     "text": [
      " 91%|██████████████████████████████████████████████████████████████████████████████████████████████████████████████           | 91/100 [03:07<00:18,  2.03s/it]"
     ]
    },
    {
     "name": "stdout",
     "output_type": "stream",
     "text": [
      "Epoch [91/100], Train Loss: 0.8481, Test Loss: 0.8432, Base Loss: 4.3416\n",
      "Generating train and test for epoch 91\n"
     ]
    },
    {
     "name": "stderr",
     "output_type": "stream",
     "text": [
      " 92%|███████████████████████████████████████████████████████████████████████████████████████████████████████████████▎         | 92/100 [03:09<00:16,  2.06s/it]"
     ]
    },
    {
     "name": "stdout",
     "output_type": "stream",
     "text": [
      "Epoch [92/100], Train Loss: 0.8437, Test Loss: 0.8474, Base Loss: 4.3348\n",
      "Generating train and test for epoch 92\n"
     ]
    },
    {
     "name": "stderr",
     "output_type": "stream",
     "text": [
      " 93%|████████████████████████████████████████████████████████████████████████████████████████████████████████████████▌        | 93/100 [03:11<00:14,  2.06s/it]"
     ]
    },
    {
     "name": "stdout",
     "output_type": "stream",
     "text": [
      "Epoch [93/100], Train Loss: 0.8529, Test Loss: 0.8584, Base Loss: 4.3582\n",
      "Generating train and test for epoch 93\n"
     ]
    },
    {
     "name": "stderr",
     "output_type": "stream",
     "text": [
      " 94%|█████████████████████████████████████████████████████████████████████████████████████████████████████████████████▋       | 94/100 [03:13<00:12,  2.06s/it]"
     ]
    },
    {
     "name": "stdout",
     "output_type": "stream",
     "text": [
      "Epoch [94/100], Train Loss: 0.8351, Test Loss: 0.8279, Base Loss: 4.3588\n",
      "Generating train and test for epoch 94\n"
     ]
    },
    {
     "name": "stderr",
     "output_type": "stream",
     "text": [
      " 95%|██████████████████████████████████████████████████████████████████████████████████████████████████████████████████▉      | 95/100 [03:15<00:10,  2.06s/it]"
     ]
    },
    {
     "name": "stdout",
     "output_type": "stream",
     "text": [
      "Epoch [95/100], Train Loss: 0.8519, Test Loss: 0.8465, Base Loss: 4.3647\n",
      "Generating train and test for epoch 95\n"
     ]
    },
    {
     "name": "stderr",
     "output_type": "stream",
     "text": [
      " 96%|████████████████████████████████████████████████████████████████████████████████████████████████████████████████████▏    | 96/100 [03:17<00:08,  2.05s/it]"
     ]
    },
    {
     "name": "stdout",
     "output_type": "stream",
     "text": [
      "Epoch [96/100], Train Loss: 0.8328, Test Loss: 0.8401, Base Loss: 4.3376\n",
      "Generating train and test for epoch 96\n"
     ]
    },
    {
     "name": "stderr",
     "output_type": "stream",
     "text": [
      " 97%|█████████████████████████████████████████████████████████████████████████████████████████████████████████████████████▎   | 97/100 [03:19<00:06,  2.05s/it]"
     ]
    },
    {
     "name": "stdout",
     "output_type": "stream",
     "text": [
      "Epoch [97/100], Train Loss: 0.8494, Test Loss: 0.8462, Base Loss: 4.3417\n",
      "Generating train and test for epoch 97\n"
     ]
    },
    {
     "name": "stderr",
     "output_type": "stream",
     "text": [
      " 98%|██████████████████████████████████████████████████████████████████████████████████████████████████████████████████████▌  | 98/100 [03:21<00:04,  2.05s/it]"
     ]
    },
    {
     "name": "stdout",
     "output_type": "stream",
     "text": [
      "Epoch [98/100], Train Loss: 0.8410, Test Loss: 0.8463, Base Loss: 4.3619\n",
      "Generating train and test for epoch 98\n"
     ]
    },
    {
     "name": "stderr",
     "output_type": "stream",
     "text": [
      " 99%|███████████████████████████████████████████████████████████████████████████████████████████████████████████████████████▊ | 99/100 [03:23<00:02,  2.05s/it]"
     ]
    },
    {
     "name": "stdout",
     "output_type": "stream",
     "text": [
      "Epoch [99/100], Train Loss: 0.8336, Test Loss: 0.8421, Base Loss: 4.3422\n",
      "Generating train and test for epoch 99\n"
     ]
    },
    {
     "name": "stderr",
     "output_type": "stream",
     "text": [
      "100%|████████████████████████████████████████████████████████████████████████████████████████████████████████████████████████| 100/100 [03:25<00:00,  2.06s/it]\n"
     ]
    },
    {
     "name": "stdout",
     "output_type": "stream",
     "text": [
      "Epoch [100/100], Train Loss: 0.8347, Test Loss: 0.8399, Base Loss: 4.3638\n",
      "0.8398547768592834\n",
      "4.363753318786621\n",
      "Generating teacher model with 4 / 8 experts and 256 active neurons\n",
      "Training student model with 4 / 8 experts and 288 active neurons\n"
     ]
    },
    {
     "name": "stderr",
     "output_type": "stream",
     "text": [
      "  0%|                                                                                                                                  | 0/100 [00:00<?, ?it/s]"
     ]
    },
    {
     "name": "stdout",
     "output_type": "stream",
     "text": [
      "Generating train and test for epoch 0\n"
     ]
    },
    {
     "name": "stderr",
     "output_type": "stream",
     "text": [
      "  1%|█▏                                                                                                                        | 1/100 [00:02<03:37,  2.20s/it]"
     ]
    },
    {
     "name": "stdout",
     "output_type": "stream",
     "text": [
      "Epoch [1/100], Train Loss: 2.4171, Test Loss: 2.3983, Base Loss: 4.4207\n",
      "Generating train and test for epoch 1\n"
     ]
    },
    {
     "name": "stderr",
     "output_type": "stream",
     "text": [
      "  1%|█▏                                                                                                                        | 1/100 [00:02<04:51,  2.94s/it]\n"
     ]
    },
    {
     "ename": "KeyboardInterrupt",
     "evalue": "",
     "output_type": "error",
     "traceback": [
      "\u001b[31m---------------------------------------------------------------------------\u001b[39m",
      "\u001b[31mKeyboardInterrupt\u001b[39m                         Traceback (most recent call last)",
      "\u001b[36mCell\u001b[39m\u001b[36m \u001b[39m\u001b[32mIn[5]\u001b[39m\u001b[32m, line 11\u001b[39m\n\u001b[32m      9\u001b[39m \u001b[38;5;28;01mfor\u001b[39;00m num_experts1, k1 \u001b[38;5;129;01min\u001b[39;00m [(\u001b[32m4\u001b[39m,\u001b[32m2\u001b[39m), (\u001b[32m8\u001b[39m,\u001b[32m4\u001b[39m), (\u001b[32m16\u001b[39m,\u001b[32m8\u001b[39m), (\u001b[32m32\u001b[39m,\u001b[32m16\u001b[39m)]:\n\u001b[32m     10\u001b[39m     \u001b[38;5;28;01mfor\u001b[39;00m num_experts2, k2 \u001b[38;5;129;01min\u001b[39;00m [(\u001b[32m4\u001b[39m,\u001b[32m2\u001b[39m), (\u001b[32m8\u001b[39m,\u001b[32m4\u001b[39m), (\u001b[32m16\u001b[39m,\u001b[32m8\u001b[39m), (\u001b[32m32\u001b[39m,\u001b[32m16\u001b[39m)]:\n\u001b[32m---> \u001b[39m\u001b[32m11\u001b[39m         datum = \u001b[43mgenerate_datapoint\u001b[49m\u001b[43m(\u001b[49m\u001b[43md\u001b[49m\u001b[43m,\u001b[49m\n\u001b[32m     12\u001b[39m \u001b[43m                        \u001b[49m\u001b[43mk1\u001b[49m\u001b[43m,\u001b[49m\u001b[43mnum_experts1\u001b[49m\u001b[43m,\u001b[49m\u001b[43mactive_neurons1\u001b[49m\u001b[43m,\u001b[49m\n\u001b[32m     13\u001b[39m \u001b[43m                        \u001b[49m\u001b[43mk2\u001b[49m\u001b[43m,\u001b[49m\u001b[43mnum_experts2\u001b[49m\u001b[43m,\u001b[49m\u001b[43mactive_neurons2\u001b[49m\u001b[43m,\u001b[49m\n\u001b[32m     14\u001b[39m \u001b[43m                        \u001b[49m\u001b[43mnum_epochs\u001b[49m\u001b[43m,\u001b[49m\u001b[43mlr\u001b[49m\u001b[43m,\u001b[49m\u001b[43mbatch_size\u001b[49m\u001b[43m,\u001b[49m\n\u001b[32m     15\u001b[39m \u001b[43m                        \u001b[49m\u001b[43mtrial\u001b[49m\u001b[43m=\u001b[49m\u001b[32;43m0\u001b[39;49m\u001b[43m)\u001b[49m\n\u001b[32m     16\u001b[39m         \u001b[38;5;28mprint\u001b[39m(datum[\u001b[33m'\u001b[39m\u001b[33mtest_losses\u001b[39m\u001b[33m'\u001b[39m][-\u001b[32m1\u001b[39m])\n\u001b[32m     17\u001b[39m         \u001b[38;5;28mprint\u001b[39m(datum[\u001b[33m'\u001b[39m\u001b[33mbase_losses\u001b[39m\u001b[33m'\u001b[39m][-\u001b[32m1\u001b[39m])\n",
      "\u001b[36mCell\u001b[39m\u001b[36m \u001b[39m\u001b[32mIn[2]\u001b[39m\u001b[32m, line 52\u001b[39m, in \u001b[36mgenerate_datapoint\u001b[39m\u001b[34m(d, k1, num_experts1, active_neurons1, k2, num_experts2, active_neurons2, num_epochs, lr, batch_size, trial)\u001b[39m\n\u001b[32m     50\u001b[39m train_loader = DataLoader(train_dataset, batch_size=batch_size, shuffle=\u001b[38;5;28;01mTrue\u001b[39;00m)\n\u001b[32m     51\u001b[39m test_loader = DataLoader(test_dataset, batch_size=batch_size, shuffle=\u001b[38;5;28;01mFalse\u001b[39;00m)\n\u001b[32m---> \u001b[39m\u001b[32m52\u001b[39m train_loss = \u001b[43mtrain\u001b[49m\u001b[43m(\u001b[49m\u001b[43mstudent_model\u001b[49m\u001b[43m,\u001b[49m\u001b[43m \u001b[49m\u001b[43mtrain_loader\u001b[49m\u001b[43m,\u001b[49m\u001b[43m \u001b[49m\u001b[43mnn\u001b[49m\u001b[43m.\u001b[49m\u001b[43mMSELoss\u001b[49m\u001b[43m(\u001b[49m\u001b[43m)\u001b[49m\u001b[43m,\u001b[49m\u001b[43m \u001b[49m\u001b[43mbase_optimizer\u001b[49m\u001b[43m,\u001b[49m\u001b[43m \u001b[49m\u001b[32;43m1\u001b[39;49m\u001b[43m)\u001b[49m\n\u001b[32m     53\u001b[39m test_loss = evaluate(student_model, test_loader)\n\u001b[32m     54\u001b[39m base_loss = evaluate_zero(test_loader)\n",
      "\u001b[36mCell\u001b[39m\u001b[36m \u001b[39m\u001b[32mIn[1]\u001b[39m\u001b[32m, line 81\u001b[39m, in \u001b[36mtrain\u001b[39m\u001b[34m(model, train_loader, criterion, optimizer, num_epochs)\u001b[39m\n\u001b[32m     78\u001b[39m x_batch, y_batch = x_batch.to(device), y_batch.to(device)  \u001b[38;5;66;03m# Move data to GPU\u001b[39;00m\n\u001b[32m     80\u001b[39m optimizer.zero_grad()\n\u001b[32m---> \u001b[39m\u001b[32m81\u001b[39m output = \u001b[43mmodel\u001b[49m\u001b[43m(\u001b[49m\u001b[43mx_batch\u001b[49m\u001b[43m)\u001b[49m\n\u001b[32m     82\u001b[39m loss = criterion(output, y_batch) * output.shape[\u001b[32m1\u001b[39m]\n\u001b[32m     83\u001b[39m loss.backward()\n",
      "\u001b[36mFile \u001b[39m\u001b[32m~/miniconda3/envs/pytorch_env2/lib/python3.13/site-packages/torch/nn/modules/module.py:1739\u001b[39m, in \u001b[36mModule._wrapped_call_impl\u001b[39m\u001b[34m(self, *args, **kwargs)\u001b[39m\n\u001b[32m   1737\u001b[39m     \u001b[38;5;28;01mreturn\u001b[39;00m \u001b[38;5;28mself\u001b[39m._compiled_call_impl(*args, **kwargs)  \u001b[38;5;66;03m# type: ignore[misc]\u001b[39;00m\n\u001b[32m   1738\u001b[39m \u001b[38;5;28;01melse\u001b[39;00m:\n\u001b[32m-> \u001b[39m\u001b[32m1739\u001b[39m     \u001b[38;5;28;01mreturn\u001b[39;00m \u001b[38;5;28;43mself\u001b[39;49m\u001b[43m.\u001b[49m\u001b[43m_call_impl\u001b[49m\u001b[43m(\u001b[49m\u001b[43m*\u001b[49m\u001b[43margs\u001b[49m\u001b[43m,\u001b[49m\u001b[43m \u001b[49m\u001b[43m*\u001b[49m\u001b[43m*\u001b[49m\u001b[43mkwargs\u001b[49m\u001b[43m)\u001b[49m\n",
      "\u001b[36mFile \u001b[39m\u001b[32m~/miniconda3/envs/pytorch_env2/lib/python3.13/site-packages/torch/nn/modules/module.py:1750\u001b[39m, in \u001b[36mModule._call_impl\u001b[39m\u001b[34m(self, *args, **kwargs)\u001b[39m\n\u001b[32m   1745\u001b[39m \u001b[38;5;66;03m# If we don't have any hooks, we want to skip the rest of the logic in\u001b[39;00m\n\u001b[32m   1746\u001b[39m \u001b[38;5;66;03m# this function, and just call forward.\u001b[39;00m\n\u001b[32m   1747\u001b[39m \u001b[38;5;28;01mif\u001b[39;00m \u001b[38;5;129;01mnot\u001b[39;00m (\u001b[38;5;28mself\u001b[39m._backward_hooks \u001b[38;5;129;01mor\u001b[39;00m \u001b[38;5;28mself\u001b[39m._backward_pre_hooks \u001b[38;5;129;01mor\u001b[39;00m \u001b[38;5;28mself\u001b[39m._forward_hooks \u001b[38;5;129;01mor\u001b[39;00m \u001b[38;5;28mself\u001b[39m._forward_pre_hooks\n\u001b[32m   1748\u001b[39m         \u001b[38;5;129;01mor\u001b[39;00m _global_backward_pre_hooks \u001b[38;5;129;01mor\u001b[39;00m _global_backward_hooks\n\u001b[32m   1749\u001b[39m         \u001b[38;5;129;01mor\u001b[39;00m _global_forward_hooks \u001b[38;5;129;01mor\u001b[39;00m _global_forward_pre_hooks):\n\u001b[32m-> \u001b[39m\u001b[32m1750\u001b[39m     \u001b[38;5;28;01mreturn\u001b[39;00m \u001b[43mforward_call\u001b[49m\u001b[43m(\u001b[49m\u001b[43m*\u001b[49m\u001b[43margs\u001b[49m\u001b[43m,\u001b[49m\u001b[43m \u001b[49m\u001b[43m*\u001b[49m\u001b[43m*\u001b[49m\u001b[43mkwargs\u001b[49m\u001b[43m)\u001b[49m\n\u001b[32m   1752\u001b[39m result = \u001b[38;5;28;01mNone\u001b[39;00m\n\u001b[32m   1753\u001b[39m called_always_called_hooks = \u001b[38;5;28mset\u001b[39m()\n",
      "\u001b[36mCell\u001b[39m\u001b[36m \u001b[39m\u001b[32mIn[1]\u001b[39m\u001b[32m, line 61\u001b[39m, in \u001b[36mMoE_TopK.forward\u001b[39m\u001b[34m(self, x)\u001b[39m\n\u001b[32m     58\u001b[39m topk_weights = torch.softmax(topk_vals, dim=-\u001b[32m1\u001b[39m)  \u001b[38;5;66;03m# Normalize weights over top-k\u001b[39;00m\n\u001b[32m     60\u001b[39m batch_size, _ = x.shape\n\u001b[32m---> \u001b[39m\u001b[32m61\u001b[39m expert_outputs = torch.stack([\u001b[38;5;28;43mself\u001b[39;49m\u001b[43m.\u001b[49m\u001b[43mexperts\u001b[49m\u001b[43m[\u001b[49m\u001b[43mi\u001b[49m\u001b[43m]\u001b[49m\u001b[43m(\u001b[49m\u001b[43mx\u001b[49m\u001b[43m)\u001b[49m \u001b[38;5;28;01mfor\u001b[39;00m i \u001b[38;5;129;01min\u001b[39;00m \u001b[38;5;28mrange\u001b[39m(\u001b[38;5;28mself\u001b[39m.num_experts)], dim=\u001b[32m1\u001b[39m)  \u001b[38;5;66;03m# (batch_size, num_experts, output_dim)\u001b[39;00m\n\u001b[32m     62\u001b[39m selected_expert_outputs = torch.gather(expert_outputs, \u001b[32m1\u001b[39m, topk_idxs.unsqueeze(-\u001b[32m1\u001b[39m).expand(-\u001b[32m1\u001b[39m, -\u001b[32m1\u001b[39m, expert_outputs.shape[-\u001b[32m1\u001b[39m]))\n\u001b[32m     64\u001b[39m output = torch.sum(selected_expert_outputs * topk_weights.unsqueeze(-\u001b[32m1\u001b[39m), dim=\u001b[32m1\u001b[39m)\n",
      "\u001b[36mFile \u001b[39m\u001b[32m~/miniconda3/envs/pytorch_env2/lib/python3.13/site-packages/torch/nn/modules/module.py:1739\u001b[39m, in \u001b[36mModule._wrapped_call_impl\u001b[39m\u001b[34m(self, *args, **kwargs)\u001b[39m\n\u001b[32m   1737\u001b[39m     \u001b[38;5;28;01mreturn\u001b[39;00m \u001b[38;5;28mself\u001b[39m._compiled_call_impl(*args, **kwargs)  \u001b[38;5;66;03m# type: ignore[misc]\u001b[39;00m\n\u001b[32m   1738\u001b[39m \u001b[38;5;28;01melse\u001b[39;00m:\n\u001b[32m-> \u001b[39m\u001b[32m1739\u001b[39m     \u001b[38;5;28;01mreturn\u001b[39;00m \u001b[38;5;28;43mself\u001b[39;49m\u001b[43m.\u001b[49m\u001b[43m_call_impl\u001b[49m\u001b[43m(\u001b[49m\u001b[43m*\u001b[49m\u001b[43margs\u001b[49m\u001b[43m,\u001b[49m\u001b[43m \u001b[49m\u001b[43m*\u001b[49m\u001b[43m*\u001b[49m\u001b[43mkwargs\u001b[49m\u001b[43m)\u001b[49m\n",
      "\u001b[36mFile \u001b[39m\u001b[32m~/miniconda3/envs/pytorch_env2/lib/python3.13/site-packages/torch/nn/modules/module.py:1750\u001b[39m, in \u001b[36mModule._call_impl\u001b[39m\u001b[34m(self, *args, **kwargs)\u001b[39m\n\u001b[32m   1745\u001b[39m \u001b[38;5;66;03m# If we don't have any hooks, we want to skip the rest of the logic in\u001b[39;00m\n\u001b[32m   1746\u001b[39m \u001b[38;5;66;03m# this function, and just call forward.\u001b[39;00m\n\u001b[32m   1747\u001b[39m \u001b[38;5;28;01mif\u001b[39;00m \u001b[38;5;129;01mnot\u001b[39;00m (\u001b[38;5;28mself\u001b[39m._backward_hooks \u001b[38;5;129;01mor\u001b[39;00m \u001b[38;5;28mself\u001b[39m._backward_pre_hooks \u001b[38;5;129;01mor\u001b[39;00m \u001b[38;5;28mself\u001b[39m._forward_hooks \u001b[38;5;129;01mor\u001b[39;00m \u001b[38;5;28mself\u001b[39m._forward_pre_hooks\n\u001b[32m   1748\u001b[39m         \u001b[38;5;129;01mor\u001b[39;00m _global_backward_pre_hooks \u001b[38;5;129;01mor\u001b[39;00m _global_backward_hooks\n\u001b[32m   1749\u001b[39m         \u001b[38;5;129;01mor\u001b[39;00m _global_forward_hooks \u001b[38;5;129;01mor\u001b[39;00m _global_forward_pre_hooks):\n\u001b[32m-> \u001b[39m\u001b[32m1750\u001b[39m     \u001b[38;5;28;01mreturn\u001b[39;00m \u001b[43mforward_call\u001b[49m\u001b[43m(\u001b[49m\u001b[43m*\u001b[49m\u001b[43margs\u001b[49m\u001b[43m,\u001b[49m\u001b[43m \u001b[49m\u001b[43m*\u001b[49m\u001b[43m*\u001b[49m\u001b[43mkwargs\u001b[49m\u001b[43m)\u001b[49m\n\u001b[32m   1752\u001b[39m result = \u001b[38;5;28;01mNone\u001b[39;00m\n\u001b[32m   1753\u001b[39m called_always_called_hooks = \u001b[38;5;28mset\u001b[39m()\n",
      "\u001b[36mCell\u001b[39m\u001b[36m \u001b[39m\u001b[32mIn[1]\u001b[39m\u001b[32m, line 23\u001b[39m, in \u001b[36mMLP.forward\u001b[39m\u001b[34m(self, x)\u001b[39m\n\u001b[32m     22\u001b[39m \u001b[38;5;28;01mdef\u001b[39;00m\u001b[38;5;250m \u001b[39m\u001b[34mforward\u001b[39m(\u001b[38;5;28mself\u001b[39m, x):\n\u001b[32m---> \u001b[39m\u001b[32m23\u001b[39m     \u001b[38;5;28;01mreturn\u001b[39;00m \u001b[38;5;28;43mself\u001b[39;49m\u001b[43m.\u001b[49m\u001b[43mfc\u001b[49m\u001b[43m(\u001b[49m\u001b[43mx\u001b[49m\u001b[43m)\u001b[49m\n",
      "\u001b[36mFile \u001b[39m\u001b[32m~/miniconda3/envs/pytorch_env2/lib/python3.13/site-packages/torch/nn/modules/module.py:1739\u001b[39m, in \u001b[36mModule._wrapped_call_impl\u001b[39m\u001b[34m(self, *args, **kwargs)\u001b[39m\n\u001b[32m   1737\u001b[39m     \u001b[38;5;28;01mreturn\u001b[39;00m \u001b[38;5;28mself\u001b[39m._compiled_call_impl(*args, **kwargs)  \u001b[38;5;66;03m# type: ignore[misc]\u001b[39;00m\n\u001b[32m   1738\u001b[39m \u001b[38;5;28;01melse\u001b[39;00m:\n\u001b[32m-> \u001b[39m\u001b[32m1739\u001b[39m     \u001b[38;5;28;01mreturn\u001b[39;00m \u001b[38;5;28;43mself\u001b[39;49m\u001b[43m.\u001b[49m\u001b[43m_call_impl\u001b[49m\u001b[43m(\u001b[49m\u001b[43m*\u001b[49m\u001b[43margs\u001b[49m\u001b[43m,\u001b[49m\u001b[43m \u001b[49m\u001b[43m*\u001b[49m\u001b[43m*\u001b[49m\u001b[43mkwargs\u001b[49m\u001b[43m)\u001b[49m\n",
      "\u001b[36mFile \u001b[39m\u001b[32m~/miniconda3/envs/pytorch_env2/lib/python3.13/site-packages/torch/nn/modules/module.py:1750\u001b[39m, in \u001b[36mModule._call_impl\u001b[39m\u001b[34m(self, *args, **kwargs)\u001b[39m\n\u001b[32m   1745\u001b[39m \u001b[38;5;66;03m# If we don't have any hooks, we want to skip the rest of the logic in\u001b[39;00m\n\u001b[32m   1746\u001b[39m \u001b[38;5;66;03m# this function, and just call forward.\u001b[39;00m\n\u001b[32m   1747\u001b[39m \u001b[38;5;28;01mif\u001b[39;00m \u001b[38;5;129;01mnot\u001b[39;00m (\u001b[38;5;28mself\u001b[39m._backward_hooks \u001b[38;5;129;01mor\u001b[39;00m \u001b[38;5;28mself\u001b[39m._backward_pre_hooks \u001b[38;5;129;01mor\u001b[39;00m \u001b[38;5;28mself\u001b[39m._forward_hooks \u001b[38;5;129;01mor\u001b[39;00m \u001b[38;5;28mself\u001b[39m._forward_pre_hooks\n\u001b[32m   1748\u001b[39m         \u001b[38;5;129;01mor\u001b[39;00m _global_backward_pre_hooks \u001b[38;5;129;01mor\u001b[39;00m _global_backward_hooks\n\u001b[32m   1749\u001b[39m         \u001b[38;5;129;01mor\u001b[39;00m _global_forward_hooks \u001b[38;5;129;01mor\u001b[39;00m _global_forward_pre_hooks):\n\u001b[32m-> \u001b[39m\u001b[32m1750\u001b[39m     \u001b[38;5;28;01mreturn\u001b[39;00m \u001b[43mforward_call\u001b[49m\u001b[43m(\u001b[49m\u001b[43m*\u001b[49m\u001b[43margs\u001b[49m\u001b[43m,\u001b[49m\u001b[43m \u001b[49m\u001b[43m*\u001b[49m\u001b[43m*\u001b[49m\u001b[43mkwargs\u001b[49m\u001b[43m)\u001b[49m\n\u001b[32m   1752\u001b[39m result = \u001b[38;5;28;01mNone\u001b[39;00m\n\u001b[32m   1753\u001b[39m called_always_called_hooks = \u001b[38;5;28mset\u001b[39m()\n",
      "\u001b[36mFile \u001b[39m\u001b[32m~/miniconda3/envs/pytorch_env2/lib/python3.13/site-packages/torch/nn/modules/container.py:250\u001b[39m, in \u001b[36mSequential.forward\u001b[39m\u001b[34m(self, input)\u001b[39m\n\u001b[32m    248\u001b[39m \u001b[38;5;28;01mdef\u001b[39;00m\u001b[38;5;250m \u001b[39m\u001b[34mforward\u001b[39m(\u001b[38;5;28mself\u001b[39m, \u001b[38;5;28minput\u001b[39m):\n\u001b[32m    249\u001b[39m     \u001b[38;5;28;01mfor\u001b[39;00m module \u001b[38;5;129;01min\u001b[39;00m \u001b[38;5;28mself\u001b[39m:\n\u001b[32m--> \u001b[39m\u001b[32m250\u001b[39m         \u001b[38;5;28minput\u001b[39m = \u001b[43mmodule\u001b[49m\u001b[43m(\u001b[49m\u001b[38;5;28;43minput\u001b[39;49m\u001b[43m)\u001b[49m\n\u001b[32m    251\u001b[39m     \u001b[38;5;28;01mreturn\u001b[39;00m \u001b[38;5;28minput\u001b[39m\n",
      "\u001b[36mFile \u001b[39m\u001b[32m~/miniconda3/envs/pytorch_env2/lib/python3.13/site-packages/torch/nn/modules/module.py:1739\u001b[39m, in \u001b[36mModule._wrapped_call_impl\u001b[39m\u001b[34m(self, *args, **kwargs)\u001b[39m\n\u001b[32m   1737\u001b[39m     \u001b[38;5;28;01mreturn\u001b[39;00m \u001b[38;5;28mself\u001b[39m._compiled_call_impl(*args, **kwargs)  \u001b[38;5;66;03m# type: ignore[misc]\u001b[39;00m\n\u001b[32m   1738\u001b[39m \u001b[38;5;28;01melse\u001b[39;00m:\n\u001b[32m-> \u001b[39m\u001b[32m1739\u001b[39m     \u001b[38;5;28;01mreturn\u001b[39;00m \u001b[38;5;28;43mself\u001b[39;49m\u001b[43m.\u001b[49m\u001b[43m_call_impl\u001b[49m\u001b[43m(\u001b[49m\u001b[43m*\u001b[49m\u001b[43margs\u001b[49m\u001b[43m,\u001b[49m\u001b[43m \u001b[49m\u001b[43m*\u001b[49m\u001b[43m*\u001b[49m\u001b[43mkwargs\u001b[49m\u001b[43m)\u001b[49m\n",
      "\u001b[36mFile \u001b[39m\u001b[32m~/miniconda3/envs/pytorch_env2/lib/python3.13/site-packages/torch/nn/modules/module.py:1750\u001b[39m, in \u001b[36mModule._call_impl\u001b[39m\u001b[34m(self, *args, **kwargs)\u001b[39m\n\u001b[32m   1745\u001b[39m \u001b[38;5;66;03m# If we don't have any hooks, we want to skip the rest of the logic in\u001b[39;00m\n\u001b[32m   1746\u001b[39m \u001b[38;5;66;03m# this function, and just call forward.\u001b[39;00m\n\u001b[32m   1747\u001b[39m \u001b[38;5;28;01mif\u001b[39;00m \u001b[38;5;129;01mnot\u001b[39;00m (\u001b[38;5;28mself\u001b[39m._backward_hooks \u001b[38;5;129;01mor\u001b[39;00m \u001b[38;5;28mself\u001b[39m._backward_pre_hooks \u001b[38;5;129;01mor\u001b[39;00m \u001b[38;5;28mself\u001b[39m._forward_hooks \u001b[38;5;129;01mor\u001b[39;00m \u001b[38;5;28mself\u001b[39m._forward_pre_hooks\n\u001b[32m   1748\u001b[39m         \u001b[38;5;129;01mor\u001b[39;00m _global_backward_pre_hooks \u001b[38;5;129;01mor\u001b[39;00m _global_backward_hooks\n\u001b[32m   1749\u001b[39m         \u001b[38;5;129;01mor\u001b[39;00m _global_forward_hooks \u001b[38;5;129;01mor\u001b[39;00m _global_forward_pre_hooks):\n\u001b[32m-> \u001b[39m\u001b[32m1750\u001b[39m     \u001b[38;5;28;01mreturn\u001b[39;00m \u001b[43mforward_call\u001b[49m\u001b[43m(\u001b[49m\u001b[43m*\u001b[49m\u001b[43margs\u001b[49m\u001b[43m,\u001b[49m\u001b[43m \u001b[49m\u001b[43m*\u001b[49m\u001b[43m*\u001b[49m\u001b[43mkwargs\u001b[49m\u001b[43m)\u001b[49m\n\u001b[32m   1752\u001b[39m result = \u001b[38;5;28;01mNone\u001b[39;00m\n\u001b[32m   1753\u001b[39m called_always_called_hooks = \u001b[38;5;28mset\u001b[39m()\n",
      "\u001b[36mFile \u001b[39m\u001b[32m~/miniconda3/envs/pytorch_env2/lib/python3.13/site-packages/torch/nn/modules/linear.py:125\u001b[39m, in \u001b[36mLinear.forward\u001b[39m\u001b[34m(self, input)\u001b[39m\n\u001b[32m    124\u001b[39m \u001b[38;5;28;01mdef\u001b[39;00m\u001b[38;5;250m \u001b[39m\u001b[34mforward\u001b[39m(\u001b[38;5;28mself\u001b[39m, \u001b[38;5;28minput\u001b[39m: Tensor) -> Tensor:\n\u001b[32m--> \u001b[39m\u001b[32m125\u001b[39m     \u001b[38;5;28;01mreturn\u001b[39;00m \u001b[43mF\u001b[49m\u001b[43m.\u001b[49m\u001b[43mlinear\u001b[49m\u001b[43m(\u001b[49m\u001b[38;5;28;43minput\u001b[39;49m\u001b[43m,\u001b[49m\u001b[43m \u001b[49m\u001b[38;5;28;43mself\u001b[39;49m\u001b[43m.\u001b[49m\u001b[43mweight\u001b[49m\u001b[43m,\u001b[49m\u001b[43m \u001b[49m\u001b[38;5;28;43mself\u001b[39;49m\u001b[43m.\u001b[49m\u001b[43mbias\u001b[49m\u001b[43m)\u001b[49m\n",
      "\u001b[31mKeyboardInterrupt\u001b[39m: "
     ]
    }
   ],
   "source": [
    "# Factor of 1.125 overparametrization in student model\n",
    "d = 256\n",
    "active_neurons1 = 256\n",
    "active_neurons2 = 288\n",
    "\n",
    "batch_size = 2048\n",
    "lr = 1e-3\n",
    "num_epochs = 100\n",
    "for num_experts1, k1 in [(4,2), (8,4), (16,8), (32,16)]:\n",
    "    for num_experts2, k2 in [(4,2), (8,4), (16,8), (32,16)]:\n",
    "        datum = generate_datapoint(d,\n",
    "                        k1,num_experts1,active_neurons1,\n",
    "                        k2,num_experts2,active_neurons2,\n",
    "                        num_epochs,lr,batch_size,\n",
    "                        trial=0)\n",
    "        print(datum['test_losses'][-1])\n",
    "        print(datum['base_losses'][-1])"
   ]
  },
  {
   "cell_type": "code",
   "execution_count": null,
   "metadata": {},
   "outputs": [],
   "source": []
  }
 ],
 "metadata": {
  "kernelspec": {
   "display_name": "mypython",
   "language": "python",
   "name": "python3"
  },
  "language_info": {
   "codemirror_mode": {
    "name": "ipython",
    "version": 3
   },
   "file_extension": ".py",
   "mimetype": "text/x-python",
   "name": "python",
   "nbconvert_exporter": "python",
   "pygments_lexer": "ipython3",
   "version": "3.13.2"
  }
 },
 "nbformat": 4,
 "nbformat_minor": 2
}
